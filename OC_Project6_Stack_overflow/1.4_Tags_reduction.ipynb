{
 "cells": [
  {
   "cell_type": "code",
   "execution_count": 46,
   "metadata": {},
   "outputs": [],
   "source": [
    "from IPython.core.interactiveshell import InteractiveShell\n",
    "from datetime import datetime\n",
    "\n",
    "#basic externals\n",
    "import pandas as pd\n",
    "import numpy as np\n",
    "from pandas.api.types import is_string_dtype\n",
    "from pandas.api.types import is_numeric_dtype\n",
    "import feather\n",
    "from random import randint\n",
    "\n",
    "#visual libs\n",
    "import matplotlib.pyplot  as plt\n",
    "import seaborn as sns\n",
    "\n",
    "# sklearn model imports\n",
    "from sklearn.pipeline import Pipeline, make_pipeline\n",
    "from sklearn.externals import joblib\n",
    "from sklearn.neighbors import KNeighborsClassifier\n",
    "from sklearn.metrics import accuracy_score, mean_squared_error, mean_absolute_error, r2_score, roc_curve, classification_report, confusion_matrix, f1_score, roc_auc_score, jaccard_similarity_score,pairwise_distances\n",
    "from sklearn.model_selection import train_test_split, cross_val_score, GridSearchCV\n",
    "from sklearn.linear_model import LogisticRegressionCV, LogisticRegression\n",
    "from sklearn.ensemble import RandomForestClassifier, GradientBoostingClassifier\n",
    "from sklearn.naive_bayes import MultinomialNB, GaussianNB\n",
    "from sklearn.svm import LinearSVC\n",
    "from skmultilearn.problem_transform import BinaryRelevance, ClassifierChain\n",
    "from sklearn.decomposition import LatentDirichletAllocation \n",
    "\n",
    "#Text models\n",
    "from sklearn.feature_extraction.text import TfidfVectorizer, CountVectorizer \n",
    "\n",
    "#local imports\n",
    "from xm_functions import *\n",
    "\n",
    "\n",
    "InteractiveShell.ast_node_interactivity = \"all\"\n",
    "\n",
    "pd.options.display.max_rows = 20\n",
    "pd.options.display.max_columns = 50 \n",
    "pd.set_option('display.float_format', lambda x: '%.3f' % x) #display numbers as decimals instead of scientific value\n",
    "\n",
    "plt.rcParams[\"font.size\"] = (18)"
   ]
  },
  {
   "cell_type": "markdown",
   "metadata": {},
   "source": [
    "### Quickly import our feather clean dataset"
   ]
  },
  {
   "cell_type": "code",
   "execution_count": 47,
   "metadata": {},
   "outputs": [],
   "source": [
    "df = pd.read_feather('df_transformed_stackoverflow_posts.feather')"
   ]
  },
  {
   "cell_type": "code",
   "execution_count": 48,
   "metadata": {},
   "outputs": [
    {
     "data": {
      "text/html": [
       "<div>\n",
       "<style scoped>\n",
       "    .dataframe tbody tr th:only-of-type {\n",
       "        vertical-align: middle;\n",
       "    }\n",
       "\n",
       "    .dataframe tbody tr th {\n",
       "        vertical-align: top;\n",
       "    }\n",
       "\n",
       "    .dataframe thead th {\n",
       "        text-align: right;\n",
       "    }\n",
       "</style>\n",
       "<table border=\"1\" class=\"dataframe\">\n",
       "  <thead>\n",
       "    <tr style=\"text-align: right;\">\n",
       "      <th></th>\n",
       "      <th>title</th>\n",
       "      <th>body</th>\n",
       "      <th>tags</th>\n",
       "      <th>old_tags</th>\n",
       "      <th>body_LancasterStemmer</th>\n",
       "      <th>title_LancasterStemmer</th>\n",
       "      <th>old_body_LancasterStemmer</th>\n",
       "      <th>old_title_LancasterStemmer</th>\n",
       "    </tr>\n",
       "  </thead>\n",
       "  <tbody>\n",
       "    <tr>\n",
       "      <th>0</th>\n",
       "      <td>certain situations require use bitwise operato...</td>\n",
       "      <td>day trying code small c++ programming using sd...</td>\n",
       "      <td>c++</td>\n",
       "      <td>c++ event-handling sdl bitwise-operators boole...</td>\n",
       "      <td>day try cod smal c++ program us sdl libr ran s...</td>\n",
       "      <td>certain situ requir us bitw op instead log eq op</td>\n",
       "      <td>day try cod smal c++ program us sdl multimed l...</td>\n",
       "      <td>certain situ requir us bitw op instead log eq op</td>\n",
       "    </tr>\n",
       "    <tr>\n",
       "      <th>1</th>\n",
       "      <td>create channel youtube upload videos possible ...</td>\n",
       "      <td>using https github com youtube yt direct lite ...</td>\n",
       "      <td>ios objective-c</td>\n",
       "      <td>ios objective-c video youtube-data-api youtube...</td>\n",
       "      <td>us https github com youtub direct lit io sampl...</td>\n",
       "      <td>cre channel youtub upload video poss cre chann...</td>\n",
       "      <td>us https github com youtub yt direct lit io sa...</td>\n",
       "      <td>cre channel youtub upload video poss cre chann...</td>\n",
       "    </tr>\n",
       "    <tr>\n",
       "      <th>2</th>\n",
       "      <td>design decision boolean containsall collection...</td>\n",
       "      <td>boolean containsall collection c method collec...</td>\n",
       "      <td>java generics</td>\n",
       "      <td>java generics wildcard</td>\n",
       "      <td>bool collect c method collect framework allow ...</td>\n",
       "      <td>design decid bool collect c vs bool addal coll...</td>\n",
       "      <td>bool containsal collect c method collect frame...</td>\n",
       "      <td>design decid bool containsal collect c vs bool...</td>\n",
       "    </tr>\n",
       "  </tbody>\n",
       "</table>\n",
       "</div>"
      ],
      "text/plain": [
       "                                               title  \\\n",
       "0  certain situations require use bitwise operato...   \n",
       "1  create channel youtube upload videos possible ...   \n",
       "2  design decision boolean containsall collection...   \n",
       "\n",
       "                                                body             tags  \\\n",
       "0  day trying code small c++ programming using sd...              c++   \n",
       "1  using https github com youtube yt direct lite ...  ios objective-c   \n",
       "2  boolean containsall collection c method collec...    java generics   \n",
       "\n",
       "                                            old_tags  \\\n",
       "0  c++ event-handling sdl bitwise-operators boole...   \n",
       "1  ios objective-c video youtube-data-api youtube...   \n",
       "2                             java generics wildcard   \n",
       "\n",
       "                               body_LancasterStemmer  \\\n",
       "0  day try cod smal c++ program us sdl libr ran s...   \n",
       "1  us https github com youtub direct lit io sampl...   \n",
       "2  bool collect c method collect framework allow ...   \n",
       "\n",
       "                              title_LancasterStemmer  \\\n",
       "0   certain situ requir us bitw op instead log eq op   \n",
       "1  cre channel youtub upload video poss cre chann...   \n",
       "2  design decid bool collect c vs bool addal coll...   \n",
       "\n",
       "                           old_body_LancasterStemmer  \\\n",
       "0  day try cod smal c++ program us sdl multimed l...   \n",
       "1  us https github com youtub yt direct lit io sa...   \n",
       "2  bool containsal collect c method collect frame...   \n",
       "\n",
       "                          old_title_LancasterStemmer  \n",
       "0   certain situ requir us bitw op instead log eq op  \n",
       "1  cre channel youtub upload video poss cre chann...  \n",
       "2  design decid bool containsal collect c vs bool...  "
      ]
     },
     "execution_count": 48,
     "metadata": {},
     "output_type": "execute_result"
    },
    {
     "data": {
      "text/plain": [
       "(43254, 8)"
      ]
     },
     "execution_count": 48,
     "metadata": {},
     "output_type": "execute_result"
    }
   ],
   "source": [
    "df.head(3)\n",
    "df.shape"
   ]
  },
  {
   "cell_type": "markdown",
   "metadata": {},
   "source": [
    "## Apply Pre transform to our posts, titles and tags"
   ]
  },
  {
   "cell_type": "code",
   "execution_count": 49,
   "metadata": {},
   "outputs": [],
   "source": [
    "posts_tags= df.loc[0:, 'tags']\n",
    "posts_ids = df.index\n",
    "nb_posts= posts_ids.shape[0]"
   ]
  },
  {
   "cell_type": "markdown",
   "metadata": {},
   "source": [
    "### CountVectorizer of tags"
   ]
  },
  {
   "cell_type": "code",
   "execution_count": 85,
   "metadata": {},
   "outputs": [
    {
     "name": "stdout",
     "output_type": "stream",
     "text": [
      "We limit the minmum number of occurences for a tag to 43\n",
      "379 distinct tags remaining. ( 43254 posts )\n"
     ]
    }
   ],
   "source": [
    "min_occurences = round(nb_posts/1000)\n",
    "# binary ensures repeated tags are counted once\n",
    "countvector = CountVectorizer(min_df=43, binary =True, token_pattern ='[^\\s]+')\n",
    "\n",
    "# Apply fit_transform \n",
    "csrm_y = countvector.fit_transform(posts_tags)\n",
    "\n",
    "tags_features = pd.Series([word for word in countvector.get_feature_names()])\n",
    "df_y= pd.DataFrame(csrm_y.toarray(),index=posts_ids, columns=tags_features.values)\n",
    "\n",
    "nb_tags_distinct=df_y.shape[1]\n",
    "print('We limit the minmum number of occurences for a tag to',min_occurences)\n",
    "print(nb_tags_distinct,'distinct tags remaining. (', nb_posts,'posts )')"
   ]
  },
  {
   "cell_type": "markdown",
   "metadata": {},
   "source": [
    "## Correlation matrix, dimension reduction of tags"
   ]
  },
  {
   "cell_type": "code",
   "execution_count": 86,
   "metadata": {},
   "outputs": [],
   "source": [
    "df_corr = df_y.corr()\n",
    "df_corr = df_corr.where(~np.tril(np.ones(df_corr.shape)).astype(np.bool))"
   ]
  },
  {
   "cell_type": "code",
   "execution_count": 87,
   "metadata": {},
   "outputs": [],
   "source": [
    "df_corr_stack = df_corr.stack().reset_index()\n",
    "df_corr_stack.columns = ['y1','y2','corr']\n",
    "df_corr_stack = df_corr_stack.sort_values(by = 'corr', kind=\"quicksort\", ascending=False)"
   ]
  },
  {
   "cell_type": "code",
   "execution_count": 88,
   "metadata": {},
   "outputs": [],
   "source": [
    "tags_frequencies = pd.DataFrame(df_y.astype(bool).sum(axis=0), columns = ['y1_frequency'])\n",
    "df_corr_stack = df_corr_stack.join(tags_frequencies, on ='y1')\n",
    "tags_frequencies.columns = ['y2_frequency']\n",
    "df_corr_stack = df_corr_stack.join(tags_frequencies, on ='y2')"
   ]
  },
  {
   "cell_type": "code",
   "execution_count": 167,
   "metadata": {},
   "outputs": [],
   "source": [
    "#Orders columns so that y1 is always the bigger tag compared to y2 (in terms of how often it appears)\n",
    "def order_by_freq(x):\n",
    "    if x['y1_frequency'] < x['y2_frequency']:\n",
    "        x['y1'], x['y2'] = x['y2'], x['y1']\n",
    "        x['y1_frequency'], x['y2_frequency'] = x['y2_frequency'], x['y1_frequency']\n",
    "    return x\n"
   ]
  },
  {
   "cell_type": "code",
   "execution_count": 224,
   "metadata": {},
   "outputs": [],
   "source": [
    "df_corr_stack = df_corr_stack.apply(order_by_freq, axis=1\n",
    "#Calculates a correlation score which is lower for high frequency items. As we prefer to keep high fre<quency tags and convert low frequency ones\n",
    "df_corr_stack['freq_corr'] = 100*df_corr_stack['corr']/df_corr_stack['y2_frequency']"
   ]
  },
  {
   "cell_type": "code",
   "execution_count": 253,
   "metadata": {},
   "outputs": [
    {
     "name": "stdout",
     "output_type": "stream",
     "text": [
      "868 tags associations selected\n"
     ]
    },
    {
     "data": {
      "text/html": [
       "<div>\n",
       "<style scoped>\n",
       "    .dataframe tbody tr th:only-of-type {\n",
       "        vertical-align: middle;\n",
       "    }\n",
       "\n",
       "    .dataframe tbody tr th {\n",
       "        vertical-align: top;\n",
       "    }\n",
       "\n",
       "    .dataframe thead th {\n",
       "        text-align: right;\n",
       "    }\n",
       "</style>\n",
       "<table border=\"1\" class=\"dataframe\">\n",
       "  <thead>\n",
       "    <tr style=\"text-align: right;\">\n",
       "      <th></th>\n",
       "      <th>y1</th>\n",
       "      <th>y2</th>\n",
       "      <th>corr</th>\n",
       "      <th>y1_frequency</th>\n",
       "      <th>y2_frequency</th>\n",
       "      <th>relative_corr</th>\n",
       "      <th>freq_corr</th>\n",
       "    </tr>\n",
       "  </thead>\n",
       "  <tbody>\n",
       "    <tr>\n",
       "      <th>6290</th>\n",
       "      <td>android-studio</td>\n",
       "      <td>android-recyclerview</td>\n",
       "      <td>0.025</td>\n",
       "      <td>266</td>\n",
       "      <td>44</td>\n",
       "      <td>0.088</td>\n",
       "      <td>0.058</td>\n",
       "    </tr>\n",
       "    <tr>\n",
       "      <th>808</th>\n",
       "      <td>class</td>\n",
       "      <td>abstract-class</td>\n",
       "      <td>0.025</td>\n",
       "      <td>267</td>\n",
       "      <td>44</td>\n",
       "      <td>0.087</td>\n",
       "      <td>0.057</td>\n",
       "    </tr>\n",
       "    <tr>\n",
       "      <th>19642</th>\n",
       "      <td>class</td>\n",
       "      <td>const</td>\n",
       "      <td>0.025</td>\n",
       "      <td>267</td>\n",
       "      <td>44</td>\n",
       "      <td>0.087</td>\n",
       "      <td>0.057</td>\n",
       "    </tr>\n",
       "    <tr>\n",
       "      <th>27045</th>\n",
       "      <td>vb.net</td>\n",
       "      <td>data-binding</td>\n",
       "      <td>0.025</td>\n",
       "      <td>271</td>\n",
       "      <td>44</td>\n",
       "      <td>0.087</td>\n",
       "      <td>0.057</td>\n",
       "    </tr>\n",
       "    <tr>\n",
       "      <th>8210</th>\n",
       "      <td>apache</td>\n",
       "      <td>https</td>\n",
       "      <td>0.025</td>\n",
       "      <td>128</td>\n",
       "      <td>44</td>\n",
       "      <td>0.068</td>\n",
       "      <td>0.057</td>\n",
       "    </tr>\n",
       "    <tr>\n",
       "      <th>10351</th>\n",
       "      <td>arrays</td>\n",
       "      <td>iteration</td>\n",
       "      <td>0.025</td>\n",
       "      <td>1269</td>\n",
       "      <td>44</td>\n",
       "      <td>0.156</td>\n",
       "      <td>0.056</td>\n",
       "    </tr>\n",
       "    <tr>\n",
       "      <th>929</th>\n",
       "      <td>java</td>\n",
       "      <td>abstract-class</td>\n",
       "      <td>0.024</td>\n",
       "      <td>5582</td>\n",
       "      <td>44</td>\n",
       "      <td>0.300</td>\n",
       "      <td>0.056</td>\n",
       "    </tr>\n",
       "  </tbody>\n",
       "</table>\n",
       "</div>"
      ],
      "text/plain": [
       "                   y1                    y2  corr  y1_frequency  y2_frequency  \\\n",
       "6290   android-studio  android-recyclerview 0.025           266            44   \n",
       "808             class        abstract-class 0.025           267            44   \n",
       "19642           class                 const 0.025           267            44   \n",
       "27045          vb.net          data-binding 0.025           271            44   \n",
       "8210           apache                 https 0.025           128            44   \n",
       "10351          arrays             iteration 0.025          1269            44   \n",
       "929              java        abstract-class 0.024          5582            44   \n",
       "\n",
       "       relative_corr  freq_corr  \n",
       "6290           0.088      0.058  \n",
       "808            0.087      0.057  \n",
       "19642          0.087      0.057  \n",
       "27045          0.087      0.057  \n",
       "8210           0.068      0.057  \n",
       "10351          0.156      0.056  \n",
       "929            0.300      0.056  "
      ]
     },
     "execution_count": 253,
     "metadata": {},
     "output_type": "execute_result"
    }
   ],
   "source": [
    "#383 = quantile 0.9 , not in top 10% most common tags\n",
    "df_corr_top = df_corr_stack[(df_corr_stack['freq_corr']>0.055)].sort_values('corr', ascending=False)\n",
    "print(df_corr_top.shape[0], 'tags associations selected')\n",
    "print('Exemple of worst associations ')\n",
    "df_corr_top.tail(7)"
   ]
  },
  {
   "cell_type": "code",
   "execution_count": 266,
   "metadata": {},
   "outputs": [
    {
     "name": "stdout",
     "output_type": "stream",
     "text": [
      "86 max tags in final list. Reduced from 868 similar tags\n"
     ]
    }
   ],
   "source": [
    "final_corr_set = set(df_corr_top['y1']) - set(df_corr_top['y2'])\n",
    "print(len(final_corr_set), 'max tags in final list. Reduced from', df_corr_top.shape[0], 'similar tags')\n",
    "df_corr_top = df_corr_top.sort_values('y1_frequency', ascending=False).reset_index()"
   ]
  },
  {
   "cell_type": "code",
   "execution_count": 260,
   "metadata": {},
   "outputs": [
    {
     "name": "stdout",
     "output_type": "stream",
     "text": [
      "110 tags to treat\n",
      "warnings parent changed to grand-parent :  initialization\n",
      "flex parent changed to grand-parent :  actionscript-3\n",
      "logging parent changed to grand-parent :  exception-handling\n",
      "laravel-5 parent changed to grand-parent :  laravel\n"
     ]
    },
    {
     "name": "stderr",
     "output_type": "stream",
     "text": [
      "C:\\Users\\Maly-Fenix\\Anaconda3\\lib\\site-packages\\ipykernel_launcher.py:22: SettingWithCopyWarning: \n",
      "A value is trying to be set on a copy of a slice from a DataFrame\n",
      "\n",
      "See the caveats in the documentation: http://pandas.pydata.org/pandas-docs/stable/indexing.html#indexing-view-versus-copy\n"
     ]
    },
    {
     "name": "stdout",
     "output_type": "stream",
     "text": [
      "data-binding parent changed to grand-parent :  mvvm\n",
      "netbeans parent changed to grand-parent :  swing\n",
      "transactions parent changed to grand-parent :  hibernate\n",
      "machine-learning parent changed to grand-parent :  numpy\n",
      "frameworks parent changed to grand-parent :  model-view-controller\n",
      "dataframe parent changed to grand-parent :  pandas\n",
      "cmd parent changed to grand-parent :  batch-file\n",
      "clojure parent changed to grand-parent :  functional-programming\n",
      "razor parent changed to grand-parent :  asp.net-mvc-3\n",
      "layout parent changed to grand-parent :  mobile\n",
      "const parent changed to grand-parent :  reference\n",
      "grails parent changed to grand-parent :  intellij-idea\n",
      "iteration parent changed to grand-parent :  foreach\n",
      "utf-8 parent changed to grand-parent :  unicode\n",
      "ms-access parent changed to grand-parent :  vba\n",
      "vim parent changed to grand-parent :  grep\n",
      "uiview parent changed to grand-parent :  uiviewcontroller\n",
      "plsql parent changed to grand-parent :  oracle\n",
      "ant parent changed to grand-parent :  build\n",
      "web-services parent changed to grand-parent :  rest\n",
      "memory-leaks parent changed to grand-parent :  memory-management\n",
      "internet-explorer parent changed to grand-parent :  firefox\n",
      "compilation parent changed to grand-parent :  gcc\n",
      "coldfusion parent changed to grand-parent :  session\n",
      "abstract-class parent changed to grand-parent :  interface\n",
      "command-line parent changed to grand-parent :  unix\n",
      "delegates parent changed to grand-parent :  reflection\n",
      "count parent changed to grand-parent :  join\n",
      "linked-list parent changed to grand-parent :  data-structures\n",
      "swift3 parent changed to grand-parent :  swift\n",
      "servlets parent changed to grand-parent :  jsp\n",
      "ionic-framework parent changed to grand-parent :  cordova\n",
      "service parent changed to grand-parent :  installation\n",
      "jvm parent changed to grand-parent :  garbage-collection\n",
      "nhibernate parent changed to grand-parent :  session\n",
      "xcode6 parent changed to grand-parent :  ios8\n",
      "go parent changed to grand-parent :  struct\n",
      "assembly parent changed to grand-parent :  gcc\n",
      "650 tags left to sort\n",
      "111 tags to treat\n",
      "warnings parent changed to grand-parent :  constructor\n",
      "asp.net-core parent changed to grand-parent :  visual-studio-2015\n",
      "xpath parent changed to grand-parent :  selenium-webdriver\n",
      "scripting parent changed to grand-parent :  bash\n",
      "initialization parent changed to grand-parent :  constructor\n",
      "layout parent changed to grand-parent :  cordova\n",
      "const parent changed to grand-parent :  pointers\n",
      "ios8 parent changed to grand-parent :  swift\n",
      "grails parent changed to grand-parent :  maven\n",
      "programming-languages parent changed to grand-parent :  functional-programming\n",
      "integer parent changed to grand-parent :  floating-point\n",
      "vim parent changed to grand-parent :  awk\n",
      "java-8 parent changed to grand-parent :  lambda\n",
      "android-gradle parent changed to grand-parent :  gradle\n",
      "sql-server-2005 parent changed to grand-parent :  tsql\n",
      "excel-vba parent changed to grand-parent :  vba\n",
      "flash parent changed to grand-parent :  actionscript-3\n",
      "web-applications parent changed to grand-parent :  java-ee\n",
      "version-control parent changed to grand-parent :  svn\n",
      "jenkins parent changed to grand-parent :  maven\n",
      "ant parent changed to grand-parent :  tfs\n",
      "user-interface parent changed to grand-parent :  swing\n",
      "grep parent changed to grand-parent :  awk\n",
      "garbage-collection parent changed to grand-parent :  memory-management\n",
      "build parent changed to grand-parent :  tfs\n",
      "command-line parent changed to grand-parent :  shell\n",
      "iis-7 parent changed to grand-parent :  iis\n",
      "jvm parent changed to grand-parent :  memory-management\n",
      "hash parent changed to grand-parent :  ruby\n",
      "xcode6 parent changed to grand-parent :  swift\n",
      "parameters parent changed to grand-parent :  methods\n",
      "jpa parent changed to grand-parent :  hibernate\n",
      "371 tags left to sort\n",
      "85 tags to treat\n",
      "sed parent changed to grand-parent :  awk\n",
      "ios6 parent changed to grand-parent :  ios5\n",
      "http parent changed to grand-parent :  rest\n",
      "uinavigationcontroller parent changed to grand-parent :  uiviewcontroller\n",
      "error-handling parent changed to grand-parent :  exception-handling\n",
      "iterator parent changed to grand-parent :  stl\n",
      "url parent changed to grand-parent :  rest\n",
      "floating-point parent changed to grand-parent :  math\n",
      "authentication parent changed to grand-parent :  api\n",
      "integer parent changed to grand-parent :  math\n",
      "vim parent changed to grand-parent :  bash\n",
      "java-8 parent changed to grand-parent :  linq\n",
      "android-gradle parent changed to grand-parent :  android-studio\n",
      "gradle parent changed to grand-parent :  android-studio\n",
      "dll parent changed to grand-parent :  reference\n",
      "grep parent changed to grand-parent :  bash\n",
      "docker parent changed to grand-parent :  ubuntu\n",
      "linq-to-sql parent changed to grand-parent :  linq\n",
      "mobile parent changed to grand-parent :  cordova\n",
      "command-line parent changed to grand-parent :  bash\n",
      "android-intent parent changed to grand-parent :  android-activity\n",
      "intellij-idea parent changed to grand-parent :  maven\n",
      "178 tags left to sort\n",
      "54 tags to treat\n",
      "deployment parent changed to grand-parent :  tomcat\n",
      "sed parent changed to grand-parent :  bash\n",
      "architecture parent changed to grand-parent :  design-patterns\n",
      "dll parent changed to grand-parent :  pointers\n",
      "api parent changed to grand-parent :  rest\n",
      "unix parent changed to grand-parent :  shell\n",
      "casting parent changed to grand-parent :  types\n",
      "authentication parent changed to grand-parent :  rest\n",
      "lambda parent changed to grand-parent :  linq\n",
      "reference parent changed to grand-parent :  pointers\n",
      "63 tags left to sort\n",
      "26 tags to treat\n",
      "awk parent changed to grand-parent :  bash\n",
      "unix parent changed to grand-parent :  bash\n",
      "15 tags left to sort\n",
      "5 tags to treat\n",
      "shell parent changed to grand-parent :  bash\n",
      "3 tags left to sort\n",
      "2 tags to treat\n",
      "0 tags left to sort\n",
      "284 secondary tags associated with  72 parents.\n"
     ]
    }
   ],
   "source": [
    "#Here i will assoicate each secondary tag with a parent.\n",
    "#If the parent is itself secondary, i will assocate it with the grand-parent, etc.. Which explains this complicated loop\n",
    "\n",
    "df_final_tags = pd.DataFrame()\n",
    "df_temp_corr = df_corr_top.copy()\n",
    "parent_defining_col = 'corr'\n",
    "i = 0\n",
    "while df_temp_corr.shape[0] > 0:\n",
    "    i+=1\n",
    "    if i >10 :\n",
    "        print('Error infinite loop, abort')\n",
    "        exit\n",
    "    secondary_tags = set(df_temp_corr['y2']) - set(df_temp_corr['y1'])\n",
    "    print(len(secondary_tags), 'tags to treat')\n",
    "    \n",
    "    for secondary_tag in secondary_tags :\n",
    "        parent = df_temp_corr[df_temp_corr.y2 == secondary_tag].sort_values(parent_defining_col, ascending=False).head(1)['y1'].values[0]\n",
    "        if parent in final_corr_set:\n",
    "            df_final_tags = df_final_tags.append([[parent, secondary_tag]] )\n",
    "            df_temp_corr.drop(df_temp_corr[df_temp_corr.y2 == secondary_tag].index, inplace=True)\n",
    "        else:\n",
    "            df_temp_corr.loc[:, 'y1'][df_temp_corr.y2 == secondary_tag] = df_temp_corr[df_temp_corr.y2 == parent].sort_values(parent_defining_col, ascending=False).head(1)['y1'].values[0]\n",
    "            print(secondary_tag, 'parent changed to grand-parent : ', parent)\n",
    "    print(df_temp_corr.shape[0], 'tags left to sort')\n",
    "\n",
    "df_final_tags = pd.DataFrame(df_final_tags[0].values, index = df_final_tags[1], columns=['replace_with'])\n",
    "print(df_final_tags.shape[0] , 'secondary tags associated with ', len(df_final_tags.iloc[:,0].unique()), 'parents.')"
   ]
  },
  {
   "cell_type": "code",
   "execution_count": 272,
   "metadata": {},
   "outputs": [],
   "source": [
    "df_display = pd.DataFrame(index = df_y.columns)\n",
    "df_display = df_display.join(df_final_tags)\n",
    "df_children_count = df_final_tags.reset_index().groupby('replace_with').count()\n",
    "df_children_count.columns=['children_count']\n",
    "df_display = df_display.join(df_children_count)\n",
    "pd.set_option('display.max_rows', 500)\n"
   ]
  },
  {
   "cell_type": "code",
   "execution_count": 275,
   "metadata": {},
   "outputs": [
    {
     "data": {
      "text/html": [
       "<div>\n",
       "<style scoped>\n",
       "    .dataframe tbody tr th:only-of-type {\n",
       "        vertical-align: middle;\n",
       "    }\n",
       "\n",
       "    .dataframe tbody tr th {\n",
       "        vertical-align: top;\n",
       "    }\n",
       "\n",
       "    .dataframe thead th {\n",
       "        text-align: right;\n",
       "    }\n",
       "</style>\n",
       "<table border=\"1\" class=\"dataframe\">\n",
       "  <thead>\n",
       "    <tr style=\"text-align: right;\">\n",
       "      <th></th>\n",
       "      <th>replace_with</th>\n",
       "      <th>children_count</th>\n",
       "    </tr>\n",
       "  </thead>\n",
       "  <tbody>\n",
       "    <tr>\n",
       "      <th>visual-studio</th>\n",
       "      <td>NaN</td>\n",
       "      <td>12.000</td>\n",
       "    </tr>\n",
       "    <tr>\n",
       "      <th>visual-studio-2008</th>\n",
       "      <td>visual-studio</td>\n",
       "      <td>nan</td>\n",
       "    </tr>\n",
       "    <tr>\n",
       "      <th>visual-studio-2010</th>\n",
       "      <td>NaN</td>\n",
       "      <td>nan</td>\n",
       "    </tr>\n",
       "    <tr>\n",
       "      <th>visual-studio-2012</th>\n",
       "      <td>visual-studio</td>\n",
       "      <td>nan</td>\n",
       "    </tr>\n",
       "    <tr>\n",
       "      <th>visual-studio-2013</th>\n",
       "      <td>visual-studio</td>\n",
       "      <td>nan</td>\n",
       "    </tr>\n",
       "    <tr>\n",
       "      <th>visual-studio-2015</th>\n",
       "      <td>visual-studio</td>\n",
       "      <td>nan</td>\n",
       "    </tr>\n",
       "  </tbody>\n",
       "</table>\n",
       "</div>"
      ],
      "text/plain": [
       "                     replace_with  children_count\n",
       "visual-studio                 NaN          12.000\n",
       "visual-studio-2008  visual-studio             nan\n",
       "visual-studio-2010            NaN             nan\n",
       "visual-studio-2012  visual-studio             nan\n",
       "visual-studio-2013  visual-studio             nan\n",
       "visual-studio-2015  visual-studio             nan"
      ]
     },
     "execution_count": 275,
     "metadata": {},
     "output_type": "execute_result"
    }
   ],
   "source": [
    "df_display[df_display.index.str.contains('visual-studio') ]"
   ]
  },
  {
   "cell_type": "code",
   "execution_count": 276,
   "metadata": {},
   "outputs": [
    {
     "data": {
      "text/html": [
       "<div>\n",
       "<style scoped>\n",
       "    .dataframe tbody tr th:only-of-type {\n",
       "        vertical-align: middle;\n",
       "    }\n",
       "\n",
       "    .dataframe tbody tr th {\n",
       "        vertical-align: top;\n",
       "    }\n",
       "\n",
       "    .dataframe thead th {\n",
       "        text-align: right;\n",
       "    }\n",
       "</style>\n",
       "<table border=\"1\" class=\"dataframe\">\n",
       "  <thead>\n",
       "    <tr style=\"text-align: right;\">\n",
       "      <th></th>\n",
       "      <th>replace_with</th>\n",
       "      <th>children_count</th>\n",
       "    </tr>\n",
       "  </thead>\n",
       "  <tbody>\n",
       "    <tr>\n",
       "      <th>asp.net</th>\n",
       "      <td>NaN</td>\n",
       "      <td>2.000</td>\n",
       "    </tr>\n",
       "    <tr>\n",
       "      <th>asp.net-core</th>\n",
       "      <td>visual-studio</td>\n",
       "      <td>nan</td>\n",
       "    </tr>\n",
       "    <tr>\n",
       "      <th>asp.net-mvc</th>\n",
       "      <td>NaN</td>\n",
       "      <td>6.000</td>\n",
       "    </tr>\n",
       "    <tr>\n",
       "      <th>asp.net-mvc-3</th>\n",
       "      <td>asp.net-mvc</td>\n",
       "      <td>nan</td>\n",
       "    </tr>\n",
       "    <tr>\n",
       "      <th>asp.net-mvc-4</th>\n",
       "      <td>asp.net-mvc</td>\n",
       "      <td>nan</td>\n",
       "    </tr>\n",
       "    <tr>\n",
       "      <th>asp.net-web-api</th>\n",
       "      <td>asp.net-mvc</td>\n",
       "      <td>nan</td>\n",
       "    </tr>\n",
       "  </tbody>\n",
       "</table>\n",
       "</div>"
      ],
      "text/plain": [
       "                  replace_with  children_count\n",
       "asp.net                    NaN           2.000\n",
       "asp.net-core     visual-studio             nan\n",
       "asp.net-mvc                NaN           6.000\n",
       "asp.net-mvc-3      asp.net-mvc             nan\n",
       "asp.net-mvc-4      asp.net-mvc             nan\n",
       "asp.net-web-api    asp.net-mvc             nan"
      ]
     },
     "execution_count": 276,
     "metadata": {},
     "output_type": "execute_result"
    }
   ],
   "source": [
    "df_display[df_display.index.str.contains('asp.net') ]"
   ]
  },
  {
   "cell_type": "code",
   "execution_count": 286,
   "metadata": {},
   "outputs": [
    {
     "name": "stdout",
     "output_type": "stream",
     "text": [
      "23 tags with no children and no parents\n",
      "72 parent tags\n",
      "95 tags total\n"
     ]
    }
   ],
   "source": [
    "print(df_display[df_display.replace_with.isna() & (df_display.children_count.isna())].shape[0], 'tags with no children and no parents')\n",
    "print(df_display[df_display.replace_with.isna() & ~(df_display.children_count.isna())].shape[0], 'parent tags')\n",
    "print(df_display[df_display.replace_with.isna() ].shape[0], 'tags total')"
   ]
  },
  {
   "cell_type": "markdown",
   "metadata": {},
   "source": [
    "## Exporting our tags' list"
   ]
  },
  {
   "cell_type": "code",
   "execution_count": 283,
   "metadata": {},
   "outputs": [
    {
     "name": "stdout",
     "output_type": "stream",
     "text": [
      "export done\n"
     ]
    }
   ],
   "source": [
    "df_final_tags.to_csv('tags_to_replace.csv', index=True)\n",
    "df_final_tags.to_csv('OCR_Project6_StackOverFlow/API/ressources/tags_to_replace.csv', index=True)\n",
    "print('export done')"
   ]
  },
  {
   "cell_type": "code",
   "execution_count": null,
   "metadata": {},
   "outputs": [],
   "source": []
  }
 ],
 "metadata": {
  "kernelspec": {
   "display_name": "Python 3",
   "language": "python",
   "name": "python3"
  },
  "language_info": {
   "codemirror_mode": {
    "name": "ipython",
    "version": 3
   },
   "file_extension": ".py",
   "mimetype": "text/x-python",
   "name": "python",
   "nbconvert_exporter": "python",
   "pygments_lexer": "ipython3",
   "version": "3.6.5"
  }
 },
 "nbformat": 4,
 "nbformat_minor": 2
}
