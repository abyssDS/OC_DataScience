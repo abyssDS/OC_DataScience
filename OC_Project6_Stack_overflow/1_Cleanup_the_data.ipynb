{
 "cells": [
  {
   "cell_type": "markdown",
   "metadata": {},
   "source": [
    "# Import, Cleaning and Exploring the data"
   ]
  },
  {
   "cell_type": "code",
   "execution_count": 772,
   "metadata": {},
   "outputs": [],
   "source": [
    "from IPython.core.interactiveshell import InteractiveShell\n",
    "from datetime import datetime\n",
    "\n",
    "#basic externals\n",
    "import pandas as pd\n",
    "import numpy as np\n",
    "from pandas.api.types import is_string_dtype\n",
    "from pandas.api.types import is_numeric_dtype\n",
    "import feather\n",
    "from random import randint\n",
    "from scipy import stats\n",
    "\n",
    "#visual libs\n",
    "import matplotlib.pyplot  as plt\n",
    "import seaborn as sns\n",
    "\n",
    "## testing statsmodel\n",
    "import statsmodels.api as sm\n",
    "import statsmodels.formula.api as smf\n",
    "from patsy import dmatrices\n",
    "\n",
    "# Words processing models\n",
    "from bs4 import BeautifulSoup        \n",
    "import re #Regular exp\n",
    "import nltk\n",
    "from nltk.stem import SnowballStemmer, PorterStemmer, LancasterStemmer, WordNetLemmatizer\n",
    "\n",
    "#local imports\n",
    "from xm_functions import *\n",
    "\n",
    "InteractiveShell.ast_node_interactivity = \"all\"\n",
    "\n",
    "pd.options.display.max_rows = 20\n",
    "pd.options.display.max_columns = 50 \n",
    "pd.set_option(\n",
    "    \"display.float_format\", lambda x: \"%.3f\" % x\n",
    ")  # display numbers as decimals instead of scientific value\n",
    "\n",
    "plt.rcParams[\"font.size\"] = (18)"
   ]
  },
  {
   "cell_type": "markdown",
   "metadata": {},
   "source": [
    "### Import our dataset"
   ]
  },
  {
   "cell_type": "markdown",
   "metadata": {},
   "source": [
    "Note : Our dataset is a manual extract of data from StackOverFlow, selecting title, post's body and tags, of 40K posts\n",
    "<br> We selected a minimal length of 100 char to get enough data for classification\n",
    "<br> We only selected questions without the answers for simplicty"
   ]
  },
  {
   "cell_type": "code",
   "execution_count": 773,
   "metadata": {},
   "outputs": [],
   "source": [
    "file_path = 'QueryResults_40k.csv'\n",
    "df = pd.read_csv(file_path)"
   ]
  },
  {
   "cell_type": "code",
   "execution_count": 774,
   "metadata": {},
   "outputs": [
    {
     "data": {
      "text/html": [
       "<div>\n",
       "<style scoped>\n",
       "    .dataframe tbody tr th:only-of-type {\n",
       "        vertical-align: middle;\n",
       "    }\n",
       "\n",
       "    .dataframe tbody tr th {\n",
       "        vertical-align: top;\n",
       "    }\n",
       "\n",
       "    .dataframe thead th {\n",
       "        text-align: right;\n",
       "    }\n",
       "</style>\n",
       "<table border=\"1\" class=\"dataframe\">\n",
       "  <thead>\n",
       "    <tr style=\"text-align: right;\">\n",
       "      <th></th>\n",
       "      <th>title</th>\n",
       "      <th>body</th>\n",
       "      <th>tags</th>\n",
       "    </tr>\n",
       "  </thead>\n",
       "  <tbody>\n",
       "    <tr>\n",
       "      <th>count</th>\n",
       "      <td>43254</td>\n",
       "      <td>43254</td>\n",
       "      <td>43254</td>\n",
       "    </tr>\n",
       "    <tr>\n",
       "      <th>unique</th>\n",
       "      <td>43220</td>\n",
       "      <td>43253</td>\n",
       "      <td>30616</td>\n",
       "    </tr>\n",
       "    <tr>\n",
       "      <th>top</th>\n",
       "      <td>Column is invalid in the select list because i...</td>\n",
       "      <td>&lt;p&gt;Let's say I have an sql server table:&lt;/p&gt;\\n...</td>\n",
       "      <td>&lt;java&gt;</td>\n",
       "    </tr>\n",
       "    <tr>\n",
       "      <th>freq</th>\n",
       "      <td>5</td>\n",
       "      <td>2</td>\n",
       "      <td>581</td>\n",
       "    </tr>\n",
       "  </tbody>\n",
       "</table>\n",
       "</div>"
      ],
      "text/plain": [
       "                                                    title  \\\n",
       "count                                               43254   \n",
       "unique                                              43220   \n",
       "top     Column is invalid in the select list because i...   \n",
       "freq                                                    5   \n",
       "\n",
       "                                                     body    tags  \n",
       "count                                               43254   43254  \n",
       "unique                                              43253   30616  \n",
       "top     <p>Let's say I have an sql server table:</p>\\n...  <java>  \n",
       "freq                                                    2     581  "
      ]
     },
     "execution_count": 774,
     "metadata": {},
     "output_type": "execute_result"
    }
   ],
   "source": [
    "df.describe()"
   ]
  },
  {
   "cell_type": "code",
   "execution_count": null,
   "metadata": {},
   "outputs": [],
   "source": []
  },
  {
   "cell_type": "markdown",
   "metadata": {},
   "source": [
    "# Having a look at a single post"
   ]
  },
  {
   "cell_type": "markdown",
   "metadata": {},
   "source": [
    "### HTML parser Beautiful soup"
   ]
  },
  {
   "cell_type": "code",
   "execution_count": 775,
   "metadata": {},
   "outputs": [
    {
     "data": {
      "text/plain": [
       "'Finding and replacing a pair of characters in a string with another pair of characters in that string'"
      ]
     },
     "execution_count": 775,
     "metadata": {},
     "output_type": "execute_result"
    },
    {
     "data": {
      "text/plain": [
       "\"<p>I'm new to Python, but want to figure out how to take a string and swap pairs of characters around. Let's say we have the string \\n'HELLO__WORLD' and want to switch the HE in HELLO with __. So that the string now looks like '__LLOHEWORLD' How could that be done? Does it have anything to do with .pop and .append? Or perhaps if, elif, else functions could be used? Maybe to begin with, .index is needed to find the characters that the user specifies need to be swapped?</p>\\n\\n<p>I honestly have no idea really where to begin. </p>\\n\""
      ]
     },
     "execution_count": 775,
     "metadata": {},
     "output_type": "execute_result"
    }
   ],
   "source": [
    "post_id = 15#randint(0, df.shape[0]-1) \n",
    "post_title = df.loc[post_id].title\n",
    "post_raw = df.loc[post_id].body\n",
    "post_title\n",
    "post_raw"
   ]
  },
  {
   "cell_type": "code",
   "execution_count": 776,
   "metadata": {},
   "outputs": [
    {
     "data": {
      "text/plain": [
       "<p>I'm new to Python, but want to figure out how to take a string and swap pairs of characters around. Let's say we have the string \n",
       "'HELLO__WORLD' and want to switch the HE in HELLO with __. So that the string now looks like '__LLOHEWORLD' How could that be done? Does it have anything to do with .pop and .append? Or perhaps if, elif, else functions could be used? Maybe to begin with, .index is needed to find the characters that the user specifies need to be swapped?</p>\n",
       "<p>I honestly have no idea really where to begin. </p>"
      ]
     },
     "execution_count": 776,
     "metadata": {},
     "output_type": "execute_result"
    }
   ],
   "source": [
    "soup = BeautifulSoup(post_raw, \"html.parser\")\n",
    "soup"
   ]
  },
  {
   "cell_type": "markdown",
   "metadata": {},
   "source": [
    "### Removing HTML tags"
   ]
  },
  {
   "cell_type": "code",
   "execution_count": 777,
   "metadata": {},
   "outputs": [
    {
     "data": {
      "text/plain": [
       "\"I'm new to Python, but want to figure out how to take a string and swap pairs of characters around. Let's say we have the string \\n'HELLO__WORLD' and want to switch the HE in HELLO with __. So that the string now looks like '__LLOHEWORLD' How could that be done? Does it have anything to do with .pop and .append? Or perhaps if, elif, else functions could be used? Maybe to begin with, .index is needed to find the characters that the user specifies need to be swapped?\\nI honestly have no idea really where to begin. \\n\""
      ]
     },
     "execution_count": 777,
     "metadata": {},
     "output_type": "execute_result"
    }
   ],
   "source": [
    "post_txt = soup.get_text()\n",
    "post_txt"
   ]
  },
  {
   "cell_type": "markdown",
   "metadata": {},
   "source": [
    "### Lower case"
   ]
  },
  {
   "cell_type": "code",
   "execution_count": 778,
   "metadata": {},
   "outputs": [
    {
     "name": "stdout",
     "output_type": "stream",
     "text": [
      "10 first Words\n"
     ]
    },
    {
     "data": {
      "text/plain": [
       "\"i'm new to python, but want to figure out how to take a string and swap pairs of characters around. \""
      ]
     },
     "execution_count": 778,
     "metadata": {},
     "output_type": "execute_result"
    }
   ],
   "source": [
    "post_lower = post_txt.lower()\n",
    "print(\"10 first Words\")\n",
    "post_lower[:100]"
   ]
  },
  {
   "cell_type": "markdown",
   "metadata": {},
   "source": [
    "### Removing punctuation and such "
   ]
  },
  {
   "cell_type": "code",
   "execution_count": 779,
   "metadata": {},
   "outputs": [
    {
     "name": "stdout",
     "output_type": "stream",
     "text": [
      "i m new to python but want to figure out how to take a string and swap pairs of characters around let s say we have the string hello world and want to switch the he in hello with so that the string now looks like lloheworld how could that be done does it have anything to do with pop and append or perhaps if elif else functions could be used maybe to begin with index is needed to find the characters that the user specifies need to be swapped i honestly have no idea really where to begin "
     ]
    }
   ],
   "source": [
    "words_only  = re.sub(\"[^a-z+#]\",\n",
    "                      \" \",\n",
    "                      post_lower).split()\n",
    "for i in words_only:\n",
    "    print(i, end=\" \")"
   ]
  },
  {
   "cell_type": "markdown",
   "metadata": {},
   "source": [
    "## Counting words"
   ]
  },
  {
   "cell_type": "code",
   "execution_count": 780,
   "metadata": {},
   "outputs": [],
   "source": [
    "df_words = pd.DataFrame(index = np.unique(words_only) )\n",
    "df_words['count'] = 0"
   ]
  },
  {
   "cell_type": "code",
   "execution_count": 781,
   "metadata": {},
   "outputs": [],
   "source": [
    "for word in words_only:\n",
    "    df_words.loc[word, 'count'] += 1\n",
    "df_words =df_words.sort_values('count', ascending  = False)"
   ]
  },
  {
   "cell_type": "code",
   "execution_count": 782,
   "metadata": {},
   "outputs": [
    {
     "data": {
      "image/png": "[encoded data removed]",
      "text/plain": [
       "<matplotlib.figure.Figure at 0x1df9d6e16d8>"
      ]
     },
     "metadata": {},
     "output_type": "display_data"
    }
   ],
   "source": [
    "fig_size(12,3, 14)\n",
    "\n",
    "ax = df_words.head(15).plot(kind='bar')\n",
    "silent = ax.set_xticklabels(df_words.head(15).index, rotation=75)\n",
    "legend(ax, 'Repartition mots fréquents', ' ', 'Nb occurences')"
   ]
  },
  {
   "cell_type": "markdown",
   "metadata": {},
   "source": [
    "## Removing stop words"
   ]
  },
  {
   "cell_type": "code",
   "execution_count": 783,
   "metadata": {},
   "outputs": [
    {
     "name": "stdout",
     "output_type": "stream",
     "text": [
      "[nltk_data] Downloading package stopwords to C:\\Users\\Maly-\n",
      "[nltk_data]     Fenix\\AppData\\Roaming\\nltk_data...\n",
      "[nltk_data]   Package stopwords is already up-to-date!\n"
     ]
    },
    {
     "data": {
      "text/plain": [
       "True"
      ]
     },
     "execution_count": 783,
     "metadata": {},
     "output_type": "execute_result"
    },
    {
     "name": "stdout",
     "output_type": "stream",
     "text": [
      "['i', 'me', 'my', 'myself', 'we', 'our', 'ours', 'ourselves', 'you', \"you're\", \"you've\", \"you'll\", \"you'd\", 'your', 'yours', 'yourself', 'yourselves', 'he', 'him', 'his', 'himself', 'she', \"she's\", 'her', 'hers', 'herself', 'it', \"it's\", 'its', 'itself', 'they', 'them', 'their', 'theirs', 'themselves', 'what', 'which', 'who', 'whom', 'this', 'that', \"that'll\", 'these', 'those', 'am', 'is', 'are', 'was', 'were', 'be', 'been', 'being', 'have', 'has', 'had', 'having', 'do', 'does', 'did', 'doing', 'a', 'an', 'the', 'and', 'but', 'if', 'or', 'because', 'as', 'until', 'while', 'of', 'at', 'by', 'for', 'with', 'about', 'against', 'between', 'into', 'through', 'during', 'before', 'after', 'above', 'below', 'to', 'from', 'up', 'down', 'in', 'out', 'on', 'off', 'over', 'under', 'again', 'further', 'then', 'once', 'here', 'there', 'when', 'where', 'why', 'how', 'all', 'any', 'both', 'each', 'few', 'more', 'most', 'other', 'some', 'such', 'no', 'nor', 'not', 'only', 'own', 'same', 'so', 'than', 'too', 'very', 's', 't', 'can', 'will', 'just', 'don', \"don't\", 'should', \"should've\", 'now', 'd', 'll', 'm', 'o', 're', 've', 'y', 'ain', 'aren', \"aren't\", 'couldn', \"couldn't\", 'didn', \"didn't\", 'doesn', \"doesn't\", 'hadn', \"hadn't\", 'hasn', \"hasn't\", 'haven', \"haven't\", 'isn', \"isn't\", 'ma', 'mightn', \"mightn't\", 'mustn', \"mustn't\", 'needn', \"needn't\", 'shan', \"shan't\", 'shouldn', \"shouldn't\", 'wasn', \"wasn't\", 'weren', \"weren't\", 'won', \"won't\", 'wouldn', \"wouldn't\"]\n"
     ]
    }
   ],
   "source": [
    "nltk.download('stopwords') \n",
    "from nltk.corpus import stopwords\n",
    "df_words = df_words.loc[~df_words.index.isin(stopwords.words(\"english\"))]\n",
    "\n",
    "print (stopwords.words(\"english\") )"
   ]
  },
  {
   "cell_type": "code",
   "execution_count": 784,
   "metadata": {},
   "outputs": [
    {
     "data": {
      "image/png": "[encoded data removed]",
      "text/plain": [
       "<matplotlib.figure.Figure at 0x1dfa3765198>"
      ]
     },
     "metadata": {},
     "output_type": "display_data"
    }
   ],
   "source": [
    "fig_size(12,3, 14)\n",
    "df_words = df_words.loc[~df_words.index.isin(stopwords.words(\"english\"))]\n",
    "\n",
    "ax = df_words.head(15).plot(kind='bar')\n",
    "silent = ax.set_xticklabels(df_words.head(15).index, rotation=75)\n",
    "\n",
    "legend(ax, 'Repartition top 15 mots', ' ', 'Nb occurences')"
   ]
  },
  {
   "cell_type": "code",
   "execution_count": 785,
   "metadata": {},
   "outputs": [
    {
     "name": "stdout",
     "output_type": "stream",
     "text": [
      "Title:  How to create channel on youtube to upload videos and is it possible to create channel programmatically?\n",
      "Tags:  <ios><objective-c><video><youtube-data-api><youtube-channels>\n"
     ]
    }
   ],
   "source": [
    "print('Title: ', df.iloc[1].title)\n",
    "transformed_str = np_str(df_words.index)\n",
    "print('Tags: ',df.iloc[1].tags)"
   ]
  },
  {
   "cell_type": "markdown",
   "metadata": {},
   "source": [
    "##### We already have a pretty good indication of the content based on these words repartition"
   ]
  },
  {
   "cell_type": "markdown",
   "metadata": {},
   "source": [
    "### Going further with Stemming or Lemmatizing "
   ]
  },
  {
   "cell_type": "code",
   "execution_count": 786,
   "metadata": {},
   "outputs": [],
   "source": [
    "def nltk_stem(algo, words):\n",
    "    if isinstance(words, str):\n",
    "        words = words.split()\n",
    "    \n",
    "    stem_words =[]\n",
    "    algo_name = algo.__class__.__name__\n",
    "    for word in words:\n",
    "        if 'Stem' in algo_name:\n",
    "            word = algo.stem(word) \n",
    "        elif 'Lem' in algo_name:\n",
    "            word = algo.lemmatize(word) \n",
    "        else:\n",
    "            print(\"Invalid algo\")\n",
    "            return\n",
    "        #Add to array\n",
    "        if word != \"\":\n",
    "            stem_words.append(word)\n",
    "\n",
    "    return np_str(stem_words)\n",
    "    \n",
    "        "
   ]
  },
  {
   "cell_type": "code",
   "execution_count": 787,
   "metadata": {},
   "outputs": [],
   "source": [
    "#nltk.download('wordnet')"
   ]
  },
  {
   "cell_type": "code",
   "execution_count": 788,
   "metadata": {},
   "outputs": [
    {
     "name": "stdout",
     "output_type": "stream",
     "text": [
      "string hello charact could want begin realli python pop perhap pair say swap specifi swap switch take use user new anyth append around done elif els figur find function honest need idea index let like lloheworld look mayb need world\n",
      "string hello charact could want begin real python pop perhap pair say swap spec swap switch tak us us new anyth append around don el els fig find funct honest nee ide index let lik lloheworld look mayb nee world\n",
      "string hello charact could want begin realli python pop perhap pair say swap specifi swap switch take use user new anyth append around done elif els figur find function honestli need idea index let like lloheworld look mayb need world\n",
      "string hello character could want begin really python pop perhaps pair say swap specifies swapped switch take used user new anything append around done elif else figure find function honestly needed idea index let like lloheworld look maybe need world\n"
     ]
    },
    {
     "data": {
      "text/plain": [
       "Index(['string', 'hello', 'characters', 'could', 'want', 'begin', 'really',\n",
       "       'python', 'pop', 'perhaps', 'pairs', 'say', 'swap', 'specifies',\n",
       "       'swapped', 'switch', 'take', 'used', 'user', 'new', 'anything',\n",
       "       'append', 'around', 'done', 'elif', 'else', 'figure', 'find',\n",
       "       'functions', 'honestly', 'needed', 'idea', 'index', 'let', 'like',\n",
       "       'lloheworld', 'looks', 'maybe', 'need', 'world'],\n",
       "      dtype='object')"
      ]
     },
     "execution_count": 788,
     "metadata": {},
     "output_type": "execute_result"
    }
   ],
   "source": [
    "np_words = df_words.index\n",
    "print(nltk_stem(SnowballStemmer('english'), np_words))\n",
    "print(nltk_stem(LancasterStemmer(), np_words))\n",
    "print(nltk_stem(PorterStemmer(), np_words))\n",
    "print(nltk_stem(WordNetLemmatizer(), np_words))\n",
    "np_words\n"
   ]
  },
  {
   "cell_type": "code",
   "execution_count": 789,
   "metadata": {},
   "outputs": [
    {
     "data": {
      "text/plain": [
       "'new python want figure take string swap pairs characters around let say string hello world want switch hello string looks like lloheworld could done anything pop append perhaps elif else functions could used maybe begin index needed find characters user specifies need swapped honestly idea really begin'"
      ]
     },
     "execution_count": 789,
     "metadata": {},
     "output_type": "execute_result"
    }
   ],
   "source": [
    "transform_text(post_raw)"
   ]
  },
  {
   "cell_type": "code",
   "execution_count": 790,
   "metadata": {},
   "outputs": [
    {
     "data": {
      "image/png": "[encoded data removed]",
      "text/plain": [
       "<matplotlib.figure.Figure at 0x1df9acd51d0>"
      ]
     },
     "metadata": {},
     "output_type": "display_data"
    }
   ],
   "source": [
    "words_stem = nltk_stem(LancasterStemmer(), transform_text(post_raw)).split(' ')\n",
    "df_words = pd.DataFrame(index = np.unique(words_stem))\n",
    "df_words['count'] = 0\n",
    "for word in words_stem:\n",
    "    df_words.loc[word, 'count'] += 1\n",
    "df_words =df_words.sort_values('count', ascending  = False)\n",
    "fig_size(12,3, 14)\n",
    "ax = df_words.head(15).plot(kind='bar')\n",
    "silent = ax.set_xticklabels(df_words.head(15).index, rotation=75)\n",
    "\n",
    "legend(ax, 'Repartition top 15 mots', ' ', 'Nb occurences')"
   ]
  },
  {
   "cell_type": "markdown",
   "metadata": {},
   "source": [
    "## Applying transforms to our complete dataset"
   ]
  },
  {
   "cell_type": "code",
   "execution_count": 791,
   "metadata": {},
   "outputs": [
    {
     "name": "stdout",
     "output_type": "stream",
     "text": [
      "[nltk_data] Downloading package stopwords to C:\\Users\\Maly-\n",
      "[nltk_data]     Fenix\\AppData\\Roaming\\nltk_data...\n",
      "[nltk_data]   Package stopwords is already up-to-date!\n"
     ]
    },
    {
     "data": {
      "text/plain": [
       "True"
      ]
     },
     "execution_count": 791,
     "metadata": {},
     "output_type": "execute_result"
    }
   ],
   "source": [
    "soup = BeautifulSoup(post_raw, \"html.parser\")\n",
    "nltk.download('stopwords') \n",
    "from nltk.corpus import stopwords\n",
    "stop_words = np.array(stopwords.words(\"english\"))\n",
    "\n",
    "def transform_text(txt):\n",
    "    transformed_txt = BeautifulSoup(txt, \"html.parser\").get_text()\n",
    "    transformed_txt = re.sub(\"[^a-zA-Z+#]\", \" \", transformed_txt)\n",
    "    transformed_txt = np.array(transformed_txt.lower().split())\n",
    "    transformed_txt= transformed_txt[~np.in1d(transformed_txt, stop_words, assume_unique=False)]\n",
    "    return str(' '.join(map(str, transformed_txt)))\n",
    "\n",
    "def transform_tags(tags):\n",
    "    transformed_tags = tags[1:][:-1].replace('><', ' ')\n",
    "    return transformed_tags"
   ]
  },
  {
   "cell_type": "markdown",
   "metadata": {},
   "source": [
    "### All transforms before Stem / Lem"
   ]
  },
  {
   "cell_type": "code",
   "execution_count": 792,
   "metadata": {},
   "outputs": [],
   "source": [
    "df_transformed =df.copy()\n",
    "df_transformed['body']= df_transformed['body'].apply(transform_text)\n",
    "df_transformed['title']= df_transformed['title'].apply(transform_text)\n",
    "df_transformed['tags']= df_transformed['tags'].apply(transform_tags)\n",
    "\n",
    "df_transformed['old_tags'] = df_transformed['tags']"
   ]
  },
  {
   "cell_type": "markdown",
   "metadata": {},
   "source": [
    "### Stem / Lem\n",
    "<br> Only keeping LancasterStemmer as it appears to be the best for our usecase"
   ]
  },
  {
   "cell_type": "code",
   "execution_count": 793,
   "metadata": {},
   "outputs": [],
   "source": [
    "if True:\n",
    "    df_transformed['body_LancasterStemmer'] = df_transformed['body'].apply(lambda x: nltk_stem(LancasterStemmer(), x))\n",
    "    df_transformed['title_LancasterStemmer'] = df_transformed['title'].apply(lambda x: nltk_stem(LancasterStemmer(), x))\n",
    "    df_transformed['old_body_LancasterStemmer'] = df_transformed['body_LancasterStemmer']\n",
    "    df_transformed['old_title_LancasterStemmer'] = df_transformed['title_LancasterStemmer']\n",
    "    \n",
    "if False :\n",
    "    df_transformed['body_SnowballStemmer'] = df_transformed['body'].apply(lambda x: nltk_stem(SnowballStemmer('english'), x))\n",
    "    df_transformed['body_PorterStemmer'] = df_transformed['body'].apply(lambda x: nltk_stem(PorterStemmer(), x))\n",
    "    df_transformed['body_WordNetLemmatizer'] = df_transformed['body'].apply(lambda x: nltk_stem(WordNetLemmatizer(), x))\n",
    "\n",
    "    df_transformed['title_SnowballStemmer'] = df_transformed['title'].apply(lambda x: nltk_stem(SnowballStemmer('english'), x))\n",
    "    df_transformed['title_PorterStemmer'] = df_transformed['title'].apply(lambda x: nltk_stem(PorterStemmer(), x))\n",
    "    df_transformed['title_WordNetLemmatizer'] = df_transformed['title'].apply(lambda x: nltk_stem(WordNetLemmatizer(), x))"
   ]
  },
  {
   "cell_type": "markdown",
   "metadata": {},
   "source": [
    "##### Display exemple"
   ]
  },
  {
   "cell_type": "code",
   "execution_count": 794,
   "metadata": {},
   "outputs": [
    {
     "data": {
      "text/plain": [
       "0    <p>The other day I was trying to code a small ...\n",
       "1    <p>I am using <a href=\"https://github.com/yout...\n",
       "2    <p>Why   boolean containsAll(Collection &lt; ?...\n",
       "Name: body, dtype: object"
      ]
     },
     "execution_count": 794,
     "metadata": {},
     "output_type": "execute_result"
    },
    {
     "data": {
      "text/html": [
       "<div>\n",
       "<style scoped>\n",
       "    .dataframe tbody tr th:only-of-type {\n",
       "        vertical-align: middle;\n",
       "    }\n",
       "\n",
       "    .dataframe tbody tr th {\n",
       "        vertical-align: top;\n",
       "    }\n",
       "\n",
       "    .dataframe thead th {\n",
       "        text-align: right;\n",
       "    }\n",
       "</style>\n",
       "<table border=\"1\" class=\"dataframe\">\n",
       "  <thead>\n",
       "    <tr style=\"text-align: right;\">\n",
       "      <th></th>\n",
       "      <th>title</th>\n",
       "      <th>body</th>\n",
       "      <th>tags</th>\n",
       "      <th>old_tags</th>\n",
       "      <th>body_LancasterStemmer</th>\n",
       "      <th>title_LancasterStemmer</th>\n",
       "      <th>old_body_LancasterStemmer</th>\n",
       "      <th>old_title_LancasterStemmer</th>\n",
       "    </tr>\n",
       "  </thead>\n",
       "  <tbody>\n",
       "    <tr>\n",
       "      <th>0</th>\n",
       "      <td>certain situations require use bitwise operato...</td>\n",
       "      <td>day trying code small c++ programming using sd...</td>\n",
       "      <td>c++ event-handling sdl bitwise-operators boole...</td>\n",
       "      <td>c++ event-handling sdl bitwise-operators boole...</td>\n",
       "      <td>day try cod smal c++ program us sdl multimed l...</td>\n",
       "      <td>certain situ requir us bitw op instead log eq op</td>\n",
       "      <td>day try cod smal c++ program us sdl multimed l...</td>\n",
       "      <td>certain situ requir us bitw op instead log eq op</td>\n",
       "    </tr>\n",
       "    <tr>\n",
       "      <th>1</th>\n",
       "      <td>create channel youtube upload videos possible ...</td>\n",
       "      <td>using https github com youtube yt direct lite ...</td>\n",
       "      <td>ios objective-c video youtube-data-api youtube...</td>\n",
       "      <td>ios objective-c video youtube-data-api youtube...</td>\n",
       "      <td>us https github com youtub yt direct lit io sa...</td>\n",
       "      <td>cre channel youtub upload video poss cre chann...</td>\n",
       "      <td>us https github com youtub yt direct lit io sa...</td>\n",
       "      <td>cre channel youtub upload video poss cre chann...</td>\n",
       "    </tr>\n",
       "    <tr>\n",
       "      <th>2</th>\n",
       "      <td>design decision boolean containsall collection...</td>\n",
       "      <td>boolean containsall collection c method collec...</td>\n",
       "      <td>java generics wildcard</td>\n",
       "      <td>java generics wildcard</td>\n",
       "      <td>bool containsal collect c method collect frame...</td>\n",
       "      <td>design decid bool containsal collect c vs bool...</td>\n",
       "      <td>bool containsal collect c method collect frame...</td>\n",
       "      <td>design decid bool containsal collect c vs bool...</td>\n",
       "    </tr>\n",
       "  </tbody>\n",
       "</table>\n",
       "</div>"
      ],
      "text/plain": [
       "                                               title  \\\n",
       "0  certain situations require use bitwise operato...   \n",
       "1  create channel youtube upload videos possible ...   \n",
       "2  design decision boolean containsall collection...   \n",
       "\n",
       "                                                body  \\\n",
       "0  day trying code small c++ programming using sd...   \n",
       "1  using https github com youtube yt direct lite ...   \n",
       "2  boolean containsall collection c method collec...   \n",
       "\n",
       "                                                tags  \\\n",
       "0  c++ event-handling sdl bitwise-operators boole...   \n",
       "1  ios objective-c video youtube-data-api youtube...   \n",
       "2                             java generics wildcard   \n",
       "\n",
       "                                            old_tags  \\\n",
       "0  c++ event-handling sdl bitwise-operators boole...   \n",
       "1  ios objective-c video youtube-data-api youtube...   \n",
       "2                             java generics wildcard   \n",
       "\n",
       "                               body_LancasterStemmer  \\\n",
       "0  day try cod smal c++ program us sdl multimed l...   \n",
       "1  us https github com youtub yt direct lit io sa...   \n",
       "2  bool containsal collect c method collect frame...   \n",
       "\n",
       "                              title_LancasterStemmer  \\\n",
       "0   certain situ requir us bitw op instead log eq op   \n",
       "1  cre channel youtub upload video poss cre chann...   \n",
       "2  design decid bool containsal collect c vs bool...   \n",
       "\n",
       "                           old_body_LancasterStemmer  \\\n",
       "0  day try cod smal c++ program us sdl multimed l...   \n",
       "1  us https github com youtub yt direct lit io sa...   \n",
       "2  bool containsal collect c method collect frame...   \n",
       "\n",
       "                          old_title_LancasterStemmer  \n",
       "0   certain situ requir us bitw op instead log eq op  \n",
       "1  cre channel youtub upload video poss cre chann...  \n",
       "2  design decid bool containsal collect c vs bool...  "
      ]
     },
     "execution_count": 794,
     "metadata": {},
     "output_type": "execute_result"
    }
   ],
   "source": [
    "df['body'].head(3)\n",
    "df_transformed.head(3)"
   ]
  },
  {
   "cell_type": "markdown",
   "metadata": {},
   "source": [
    "## Removing rare words"
   ]
  },
  {
   "cell_type": "markdown",
   "metadata": {},
   "source": [
    " We'll remove rare words which appear less than 1 / 1000 posts <br> This can be done more easily with TFIDF or countvectorizer params, but this allows us to have a better vision of what will be ignored"
   ]
  },
  {
   "cell_type": "code",
   "execution_count": 795,
   "metadata": {},
   "outputs": [],
   "source": [
    "df_transformed['body_LancasterStemmer'] = df_transformed['old_body_LancasterStemmer']\n",
    "df_transformed['title_LancasterStemmer'] = df_transformed['old_title_LancasterStemmer']\n",
    "lancaster_full_txt =''\n",
    "my_set = 500\n",
    "for i in range(0, df_transformed.shape[0]+1, my_set):\n",
    "    lancaster_full_txt += np_str(df_transformed.loc[i:i+my_set-1, 'body_LancasterStemmer'].values)+' '\n",
    "    lancaster_full_txt += np_str(df_transformed.loc[i:i+my_set-1, 'title_LancasterStemmer'].values)+' '"
   ]
  },
  {
   "cell_type": "code",
   "execution_count": 796,
   "metadata": {},
   "outputs": [
    {
     "name": "stdout",
     "output_type": "stream",
     "text": [
      "4667009 words in total\n",
      "114935 unique words\n"
     ]
    }
   ],
   "source": [
    "print(len(lancaster_full_txt.split(' ')), 'words in total')\n",
    "\n",
    "from sklearn.feature_extraction.text import TfidfVectorizer, CountVectorizer \n",
    "countvector = CountVectorizer(lowercase=False, token_pattern = '[^\\s]+')\n",
    "# Apply fit_transform \n",
    "csrm = countvector.fit_transform([lancaster_full_txt])\n",
    "\n",
    "features = pd.Series([word for word in countvector.get_feature_names()])\n",
    "df_complete_words= pd.DataFrame(csrm.toarray(), index=['count'],  columns=features.values).T\n",
    "\n",
    "print(df_complete_words.shape[0], 'unique words')"
   ]
  },
  {
   "cell_type": "code",
   "execution_count": 798,
   "metadata": {},
   "outputs": [
    {
     "data": {
      "text/plain": [
       "5.0"
      ]
     },
     "execution_count": 798,
     "metadata": {},
     "output_type": "execute_result"
    },
    {
     "data": {
      "text/plain": [
       "95.87114455996868"
      ]
     },
     "execution_count": 798,
     "metadata": {},
     "output_type": "execute_result"
    }
   ],
   "source": [
    "df_complete_words.quantile(0.8)[0]\n",
    "#inverse of quantile\n",
    "stats.percentileofscore(df_complete_words['count'],43)\n",
    "df_complete_words['Group'] = df_complete_words['count'].apply(lambda x: 1 if x>43 else 0)"
   ]
  },
  {
   "cell_type": "code",
   "execution_count": 723,
   "metadata": {},
   "outputs": [
    {
     "data": {
      "text/plain": [
       "<matplotlib.axes._subplots.AxesSubplot at 0x1dfa2ea9ba8>"
      ]
     },
     "execution_count": 723,
     "metadata": {},
     "output_type": "execute_result"
    },
    {
     "data": {
      "image/png": "[encoded data removed]",
      "text/plain": [
       "<matplotlib.figure.Figure at 0x1dfa2f11588>"
      ]
     },
     "metadata": {},
     "output_type": "display_data"
    }
   ],
   "source": [
    "fig_size(12,4, 12)\n",
    "df_current = df_complete_words\n",
    "nb_groups=2\n",
    "column_names = ['Mots exclus','Mots gardés']\n",
    "df_plot=pd.DataFrame(np.zeros((df_current.shape[0],nb_groups)), index = df_current.index,  columns=column_names)\n",
    "for Group in range (0,nb_groups):\n",
    "    df_group = df_current[df_current['Group'] == Group]['count'].sort_values().round(0).reset_index().groupby('index').agg('sum' )\n",
    "    df_plot.loc[df_group.index.values,[column_names[Group]]] = df_group.values\n",
    "    \n",
    "df_plot.plot.hist( bins =np.linspace(1, df_plot.quantile(0.99999).max(),50) ,histtype='bar',  stacked=False, alpha =0.5)\n",
    "legend(plt, 'Répartition de l\\'ocurrence des mots', 'Occurences', 'Nombre de Mots (log)' )\n",
    "plt.yscale('log')\n",
    "plt.show()"
   ]
  },
  {
   "cell_type": "code",
   "execution_count": 806,
   "metadata": {},
   "outputs": [
    {
     "data": {
      "text/plain": [
       "array(['us', 'class', 'get', 'fil', 'er', 'dat', 'valu', 'cod', 'string',\n",
       "       'id', 'new', 'nam', 'funct', 'int', 'return', 'lik', 'work',\n",
       "       'publ', 'typ', '+', 'want', 'jav', 'on', 'list', 'c', 'serv',\n",
       "       'object', 'ap', 'set', 'x', 'com', 'method', 'cre', 'stat',\n",
       "       'would', 'ad', 'array', 'android', 'try', 'b', 'run', 'way', 'nee',\n",
       "       'tabl', 'system', 'cal', 'apply', 'text', 'div', 'numb', 'tim',\n",
       "       'select', 'e', 'lin', 'follow', 'act', 'test', 'form', 'mak',\n",
       "       'problem', 'input', 'var', 'diff', 'chang', 'void', 'first',\n",
       "       'exampl', 'pag', 'ev', 'result', 'n', 'op', 'el', 'know', 'vary',\n",
       "       'column', 'view', 'help', 'row', 'find', 'button', 'nul', 'im',\n",
       "       'bas', 'project', 'item', 'vert', 'mod', 'quest', 'tru', 'html',\n",
       "       'program', 'end', 'two', 'main', 'php', 'http', 'writ', 'key',\n",
       "       'also'], dtype=object)"
      ]
     },
     "execution_count": 806,
     "metadata": {},
     "output_type": "execute_result"
    }
   ],
   "source": [
    "df_complete_words.sort_values('count', ascending=False).head(100).index.values"
   ]
  },
  {
   "cell_type": "code",
   "execution_count": 725,
   "metadata": {},
   "outputs": [],
   "source": [
    "def filter_words(words, words_to_keep):\n",
    "    if isinstance(words, str):\n",
    "        words = np.array(words.split(' '))\n",
    "    if isinstance(words_to_keep, str):\n",
    "        words_to_keep = np.array(words_to_keep.split(' '))\n",
    "        \n",
    "    words_kept = np_str(words[np.in1d( words,  words_to_keep, assume_unique=False)])\n",
    "    return words_kept"
   ]
  },
  {
   "cell_type": "code",
   "execution_count": 749,
   "metadata": {},
   "outputs": [
    {
     "name": "stdout",
     "output_type": "stream",
     "text": [
      "4.096228302953843 of unique words remaining\n",
      "4708 out of 114935\n",
      "91.16120320445408 of total words remaining\n",
      "4254497 out of 4667004\n"
     ]
    }
   ],
   "source": [
    "df_high_occ_words = df_complete_words[df_complete_words['Group'] == 1]\n",
    "print( 100*df_high_occ_words.shape[0] / df_complete_words.shape[0] , 'of unique words remaining')\n",
    "print(df_high_occ_words.shape[0]  ,'out of', df_complete_words.shape[0])\n",
    "print( 100*df_high_occ_words['count'].sum() / df_complete_words['count'].sum() , 'of total words remaining')\n",
    "print(df_high_occ_words['count'].sum()  ,'out of', df_complete_words['count'].sum())\n"
   ]
  },
  {
   "cell_type": "code",
   "execution_count": 750,
   "metadata": {},
   "outputs": [],
   "source": [
    "pre_transform = '_LancasterStemmer'\n",
    "list_high_occ_words =  list(df_high_occ_words.index)\n",
    "df_transformed['body'+pre_transform] = df_transformed['old_body'+pre_transform].apply(lambda x: filter_words(x, list_high_occ_words))\n",
    "df_transformed['title'+pre_transform] = df_transformed['old_title'+pre_transform].apply(lambda x: filter_words(x, list_high_occ_words))"
   ]
  },
  {
   "cell_type": "markdown",
   "metadata": {},
   "source": [
    "## Removing rare tags"
   ]
  },
  {
   "cell_type": "code",
   "execution_count": 799,
   "metadata": {},
   "outputs": [],
   "source": [
    "df_transformed['tags'] = df_transformed['old_tags']\n",
    "tags_full_txt =''\n",
    "my_set = 500\n",
    "for i in range(0, df_transformed.shape[0]+1, my_set):\n",
    "    tags_full_txt += np_str(df_transformed.loc[i:i+my_set-1, 'tags'].values)+' '"
   ]
  },
  {
   "cell_type": "code",
   "execution_count": 800,
   "metadata": {},
   "outputs": [
    {
     "name": "stdout",
     "output_type": "stream",
     "text": [
      "133470 tags in total\n",
      "10982 unique tags\n"
     ]
    },
    {
     "data": {
      "text/plain": [
       "6.0"
      ]
     },
     "execution_count": 800,
     "metadata": {},
     "output_type": "execute_result"
    },
    {
     "data": {
      "text/plain": [
       "96.51247495902386"
      ]
     },
     "execution_count": 800,
     "metadata": {},
     "output_type": "execute_result"
    }
   ],
   "source": [
    "print(len(tags_full_txt.split(' ')), 'tags in total')\n",
    "\n",
    "# Apply fit_transform \n",
    "countvector = CountVectorizer(lowercase=False, token_pattern = '[^\\s]+')\n",
    "csrm = countvector.fit_transform([tags_full_txt])\n",
    "\n",
    "features = pd.Series([tag for tag in countvector.get_feature_names()])\n",
    "df_complete_tags= pd.DataFrame(csrm.toarray(), index=['count'],  columns=features.values).T\n",
    "\n",
    "print(df_complete_tags.shape[0], 'unique tags')\n",
    "\n",
    "df_complete_tags.quantile(0.8)[0]\n",
    "#inverse of quantile\n",
    "stats.percentileofscore(df_complete_tags['count'],43)\n",
    "df_complete_tags['Group'] = df_complete_tags['count'].apply(lambda x: 1 if x>43 else 0)"
   ]
  },
  {
   "cell_type": "code",
   "execution_count": 801,
   "metadata": {},
   "outputs": [
    {
     "data": {
      "text/plain": [
       "count   383.800\n",
       "Group     1.000\n",
       "Name: 0.9, dtype: float64"
      ]
     },
     "execution_count": 801,
     "metadata": {},
     "output_type": "execute_result"
    }
   ],
   "source": [
    "df_complete_tags[df_complete_tags['Group'] ==1].quantile(0.9)"
   ]
  },
  {
   "cell_type": "code",
   "execution_count": 802,
   "metadata": {},
   "outputs": [
    {
     "data": {
      "text/plain": [
       "<matplotlib.axes._subplots.AxesSubplot at 0x1df9d88c550>"
      ]
     },
     "execution_count": 802,
     "metadata": {},
     "output_type": "execute_result"
    },
    {
     "data": {
      "image/png": "[encoded data removed]",
      "text/plain": [
       "<matplotlib.figure.Figure at 0x1df9d8742e8>"
      ]
     },
     "metadata": {},
     "output_type": "display_data"
    }
   ],
   "source": [
    "fig_size(12,3, 12)\n",
    "df_current = df_complete_tags\n",
    "nb_groups=2\n",
    "column_names = ['Tags exclus','Tags gardés']\n",
    "df_plot=pd.DataFrame(np.zeros((df_current.shape[0],nb_groups)), index = df_current.index,  columns=column_names)\n",
    "for Group in range (0,nb_groups):\n",
    "    df_group = df_current[df_current['Group'] == Group]['count'].sort_values().round(0).reset_index().groupby('index').agg('sum' )\n",
    "    df_plot.loc[df_group.index.values,[column_names[Group]]] = df_group.values\n",
    "    \n",
    "df_plot.plot.hist( bins =np.linspace(1, df_plot.quantile(0.9999).max(),50) ,histtype='bar',  stacked=False, alpha =0.5)\n",
    "legend(plt, 'Répartition de l\\'ocurrence des Tags', 'Occurences', 'Nombre de Tags (log)' )\n",
    "plt.yscale('log')\n",
    "plt.show()"
   ]
  },
  {
   "cell_type": "code",
   "execution_count": 731,
   "metadata": {},
   "outputs": [
    {
     "data": {
      "text/html": [
       "<div>\n",
       "<style scoped>\n",
       "    .dataframe tbody tr th:only-of-type {\n",
       "        vertical-align: middle;\n",
       "    }\n",
       "\n",
       "    .dataframe tbody tr th {\n",
       "        vertical-align: top;\n",
       "    }\n",
       "\n",
       "    .dataframe thead th {\n",
       "        text-align: right;\n",
       "    }\n",
       "</style>\n",
       "<table border=\"1\" class=\"dataframe\">\n",
       "  <thead>\n",
       "    <tr style=\"text-align: right;\">\n",
       "      <th></th>\n",
       "      <th>java</th>\n",
       "      <th>c#</th>\n",
       "      <th>javascript</th>\n",
       "      <th>python</th>\n",
       "      <th>android</th>\n",
       "      <th>php</th>\n",
       "      <th>c++</th>\n",
       "      <th>jquery</th>\n",
       "      <th>html</th>\n",
       "      <th>ios</th>\n",
       "    </tr>\n",
       "  </thead>\n",
       "  <tbody>\n",
       "    <tr>\n",
       "      <th>count</th>\n",
       "      <td>5582</td>\n",
       "      <td>4670</td>\n",
       "      <td>4330</td>\n",
       "      <td>2841</td>\n",
       "      <td>2709</td>\n",
       "      <td>2500</td>\n",
       "      <td>2400</td>\n",
       "      <td>2076</td>\n",
       "      <td>2015</td>\n",
       "      <td>1776</td>\n",
       "    </tr>\n",
       "    <tr>\n",
       "      <th>Group</th>\n",
       "      <td>1</td>\n",
       "      <td>1</td>\n",
       "      <td>1</td>\n",
       "      <td>1</td>\n",
       "      <td>1</td>\n",
       "      <td>1</td>\n",
       "      <td>1</td>\n",
       "      <td>1</td>\n",
       "      <td>1</td>\n",
       "      <td>1</td>\n",
       "    </tr>\n",
       "  </tbody>\n",
       "</table>\n",
       "</div>"
      ],
      "text/plain": [
       "       java    c#  javascript  python  android   php   c++  jquery  html   ios\n",
       "count  5582  4670        4330    2841     2709  2500  2400    2076  2015  1776\n",
       "Group     1     1           1       1        1     1     1       1     1     1"
      ]
     },
     "execution_count": 731,
     "metadata": {},
     "output_type": "execute_result"
    },
    {
     "name": "stdout",
     "output_type": "stream",
     "text": [
      "3.4511018029502822 of unique tags remaining\n",
      "379 out of 10982\n",
      "68.324479841761 of total tags remaining\n",
      "91192 out of 133469\n"
     ]
    }
   ],
   "source": [
    "df_complete_tags.sort_values('count', ascending=False).head(10).T\n",
    "\n",
    "df_high_occ_tags = df_complete_tags[df_complete_tags['Group'] == 1]\n",
    "print( 100*df_high_occ_tags.shape[0] / df_complete_tags.shape[0] , 'of unique tags remaining')\n",
    "print(df_high_occ_tags.shape[0]  ,'out of', df_complete_tags.shape[0])\n",
    "print( 100*df_high_occ_tags['count'].sum() / df_complete_tags['count'].sum() , 'of total tags remaining')\n",
    "print(df_high_occ_tags['count'].sum()  ,'out of', df_complete_tags['count'].sum())\n"
   ]
  },
  {
   "cell_type": "code",
   "execution_count": 744,
   "metadata": {},
   "outputs": [],
   "source": [
    "list_high_occ_tags =  list(df_high_occ_tags.index)+['null']\n",
    "df_transformed['tags'] = df_transformed['old_tags'].apply(lambda x: filter_words(x, list_high_occ_tags))"
   ]
  },
  {
   "cell_type": "code",
   "execution_count": 745,
   "metadata": {},
   "outputs": [
    {
     "data": {
      "text/plain": [
       "['.net',\n",
       " '.net-4.0',\n",
       " 'abstract-class',\n",
       " 'actionscript-3',\n",
       " 'active-directory',\n",
       " 'activerecord',\n",
       " 'ado.net',\n",
       " 'ajax',\n",
       " 'algorithm',\n",
       " 'amazon-s3',\n",
       " 'amazon-web-services',\n",
       " 'android',\n",
       " 'android-activity',\n",
       " 'android-fragments',\n",
       " 'android-gradle',\n",
       " 'android-intent',\n",
       " 'android-layout',\n",
       " 'android-recyclerview',\n",
       " 'android-studio',\n",
       " 'angular',\n",
       " 'angularjs',\n",
       " 'ant',\n",
       " 'apache',\n",
       " 'apache-spark',\n",
       " 'api',\n",
       " 'architecture',\n",
       " 'arguments',\n",
       " 'arraylist',\n",
       " 'arrays',\n",
       " 'asp.net',\n",
       " 'asp.net-core',\n",
       " 'asp.net-mvc',\n",
       " 'asp.net-mvc-3',\n",
       " 'asp.net-mvc-4',\n",
       " 'asp.net-web-api',\n",
       " 'assembly',\n",
       " 'asynchronous',\n",
       " 'authentication',\n",
       " 'automation',\n",
       " 'awk',\n",
       " 'azure',\n",
       " 'bash',\n",
       " 'batch-file',\n",
       " 'boost',\n",
       " 'browser',\n",
       " 'build',\n",
       " 'button',\n",
       " 'c',\n",
       " 'c#',\n",
       " 'c#-4.0',\n",
       " 'c++',\n",
       " 'c++11',\n",
       " 'caching',\n",
       " 'cakephp',\n",
       " 'casting',\n",
       " 'checkbox',\n",
       " 'class',\n",
       " 'clojure',\n",
       " 'cmd',\n",
       " 'cocoa',\n",
       " 'cocoa-touch',\n",
       " 'codeigniter',\n",
       " 'coding-style',\n",
       " 'coldfusion',\n",
       " 'collections',\n",
       " 'command-line',\n",
       " 'compilation',\n",
       " 'compiler-construction',\n",
       " 'compiler-errors',\n",
       " 'concurrency',\n",
       " 'configuration',\n",
       " 'const',\n",
       " 'constructor',\n",
       " 'cordova',\n",
       " 'core-data',\n",
       " 'count',\n",
       " 'css',\n",
       " 'css3',\n",
       " 'csv',\n",
       " 'data-binding',\n",
       " 'data-structures',\n",
       " 'database',\n",
       " 'database-design',\n",
       " 'dataframe',\n",
       " 'date',\n",
       " 'datetime',\n",
       " 'debugging',\n",
       " 'delegates',\n",
       " 'delphi',\n",
       " 'dependency-injection',\n",
       " 'deployment',\n",
       " 'design-patterns',\n",
       " 'dictionary',\n",
       " 'django',\n",
       " 'dll',\n",
       " 'docker',\n",
       " 'dom',\n",
       " 'dynamic',\n",
       " 'eclipse',\n",
       " 'ecmascript-6',\n",
       " 'email',\n",
       " 'encryption',\n",
       " 'entity-framework',\n",
       " 'entity-framework-4',\n",
       " 'error-handling',\n",
       " 'events',\n",
       " 'excel',\n",
       " 'excel-formula',\n",
       " 'excel-vba',\n",
       " 'exception',\n",
       " 'exception-handling',\n",
       " 'facebook',\n",
       " 'facebook-graph-api',\n",
       " 'file',\n",
       " 'file-io',\n",
       " 'firebase',\n",
       " 'firefox',\n",
       " 'flash',\n",
       " 'flex',\n",
       " 'floating-point',\n",
       " 'for-loop',\n",
       " 'foreach',\n",
       " 'forms',\n",
       " 'frameworks',\n",
       " 'function',\n",
       " 'functional-programming',\n",
       " 'garbage-collection',\n",
       " 'gcc',\n",
       " 'generics',\n",
       " 'git',\n",
       " 'github',\n",
       " 'go',\n",
       " 'google-app-engine',\n",
       " 'google-chrome',\n",
       " 'google-maps',\n",
       " 'gradle',\n",
       " 'grails',\n",
       " 'grep',\n",
       " 'group-by',\n",
       " 'hadoop',\n",
       " 'hash',\n",
       " 'hashmap',\n",
       " 'haskell',\n",
       " 'heroku',\n",
       " 'hibernate',\n",
       " 'html',\n",
       " 'html5',\n",
       " 'http',\n",
       " 'https',\n",
       " 'if-statement',\n",
       " 'iis',\n",
       " 'iis-7',\n",
       " 'image',\n",
       " 'image-processing',\n",
       " 'import',\n",
       " 'indexing',\n",
       " 'inheritance',\n",
       " 'initialization',\n",
       " 'input',\n",
       " 'installation',\n",
       " 'int',\n",
       " 'integer',\n",
       " 'intellij-idea',\n",
       " 'interface',\n",
       " 'internet-explorer',\n",
       " 'io',\n",
       " 'ionic-framework',\n",
       " 'ios',\n",
       " 'ios5',\n",
       " 'ios6',\n",
       " 'ios7',\n",
       " 'ios8',\n",
       " 'ipad',\n",
       " 'iphone',\n",
       " 'iteration',\n",
       " 'iterator',\n",
       " 'jar',\n",
       " 'java',\n",
       " 'java-8',\n",
       " 'java-ee',\n",
       " 'javascript',\n",
       " 'javascript-events',\n",
       " 'jdbc',\n",
       " 'jenkins',\n",
       " 'join',\n",
       " 'jpa',\n",
       " 'jquery',\n",
       " 'jquery-ui',\n",
       " 'json',\n",
       " 'jsp',\n",
       " 'junit',\n",
       " 'jvm',\n",
       " 'lambda',\n",
       " 'language-agnostic',\n",
       " 'language-lawyer',\n",
       " 'laravel',\n",
       " 'laravel-5',\n",
       " 'layout',\n",
       " 'linked-list',\n",
       " 'linq',\n",
       " 'linq-to-sql',\n",
       " 'linux',\n",
       " 'list',\n",
       " 'listview',\n",
       " 'logging',\n",
       " 'loops',\n",
       " 'machine-learning',\n",
       " 'macos',\n",
       " 'magento',\n",
       " 'math',\n",
       " 'matlab',\n",
       " 'matrix',\n",
       " 'maven',\n",
       " 'memory',\n",
       " 'memory-leaks',\n",
       " 'memory-management',\n",
       " 'methods',\n",
       " 'mobile',\n",
       " 'model-view-controller',\n",
       " 'mongodb',\n",
       " 'ms-access',\n",
       " 'msbuild',\n",
       " 'multidimensional-array',\n",
       " 'multithreading',\n",
       " 'mvvm',\n",
       " 'mysql',\n",
       " 'mysqli',\n",
       " 'netbeans',\n",
       " 'networking',\n",
       " 'nhibernate',\n",
       " 'node.js',\n",
       " 'nuget',\n",
       " 'null',\n",
       " 'nullpointerexception',\n",
       " 'numpy',\n",
       " 'object',\n",
       " 'objective-c',\n",
       " 'oop',\n",
       " 'opencv',\n",
       " 'optimization',\n",
       " 'oracle',\n",
       " 'pandas',\n",
       " 'parameters',\n",
       " 'parsing',\n",
       " 'performance',\n",
       " 'perl',\n",
       " 'permissions',\n",
       " 'php',\n",
       " 'phpmyadmin',\n",
       " 'plsql',\n",
       " 'pointers',\n",
       " 'polymorphism',\n",
       " 'post',\n",
       " 'postgresql',\n",
       " 'powershell',\n",
       " 'programming-languages',\n",
       " 'properties',\n",
       " 'python',\n",
       " 'python-2.7',\n",
       " 'python-3.x',\n",
       " 'qt',\n",
       " 'r',\n",
       " 'random',\n",
       " 'razor',\n",
       " 'react-native',\n",
       " 'reactjs',\n",
       " 'recursion',\n",
       " 'redirect',\n",
       " 'reference',\n",
       " 'reflection',\n",
       " 'regex',\n",
       " 'replace',\n",
       " 'reporting-services',\n",
       " 'rest',\n",
       " 'return',\n",
       " 'ruby',\n",
       " 'ruby-on-rails',\n",
       " 'ruby-on-rails-3',\n",
       " 'ruby-on-rails-4',\n",
       " 'scala',\n",
       " 'scope',\n",
       " 'scripting',\n",
       " 'search',\n",
       " 'security',\n",
       " 'sed',\n",
       " 'select',\n",
       " 'selenium',\n",
       " 'selenium-webdriver',\n",
       " 'serialization',\n",
       " 'service',\n",
       " 'servlets',\n",
       " 'session',\n",
       " 'sharepoint',\n",
       " 'shell',\n",
       " 'silverlight',\n",
       " 'sockets',\n",
       " 'sorting',\n",
       " 'split',\n",
       " 'spring',\n",
       " 'spring-boot',\n",
       " 'spring-mvc',\n",
       " 'sql',\n",
       " 'sql-server',\n",
       " 'sql-server-2005',\n",
       " 'sql-server-2008',\n",
       " 'sql-server-2012',\n",
       " 'sqlite',\n",
       " 'ssis',\n",
       " 'ssl',\n",
       " 'static',\n",
       " 'stl',\n",
       " 'stored-procedures',\n",
       " 'string',\n",
       " 'struct',\n",
       " 'svn',\n",
       " 'swift',\n",
       " 'swift3',\n",
       " 'swing',\n",
       " 'symfony',\n",
       " 'synchronization',\n",
       " 'syntax',\n",
       " 'templates',\n",
       " 'testing',\n",
       " 'tfs',\n",
       " 'tomcat',\n",
       " 'transactions',\n",
       " 'tsql',\n",
       " 'twitter-bootstrap',\n",
       " 'types',\n",
       " 'typescript',\n",
       " 'ubuntu',\n",
       " 'uicollectionview',\n",
       " 'uinavigationcontroller',\n",
       " 'uitableview',\n",
       " 'uiview',\n",
       " 'uiviewcontroller',\n",
       " 'unicode',\n",
       " 'unit-testing',\n",
       " 'unix',\n",
       " 'url',\n",
       " 'user-interface',\n",
       " 'utf-8',\n",
       " 'validation',\n",
       " 'variables',\n",
       " 'vb.net',\n",
       " 'vba',\n",
       " 'vector',\n",
       " 'version-control',\n",
       " 'vim',\n",
       " 'visual-c++',\n",
       " 'visual-studio',\n",
       " 'visual-studio-2008',\n",
       " 'visual-studio-2010',\n",
       " 'visual-studio-2012',\n",
       " 'visual-studio-2013',\n",
       " 'visual-studio-2015',\n",
       " 'warnings',\n",
       " 'wcf',\n",
       " 'web',\n",
       " 'web-applications',\n",
       " 'web-services',\n",
       " 'webdriver',\n",
       " 'while-loop',\n",
       " 'winapi',\n",
       " 'windows',\n",
       " 'windows-7',\n",
       " 'windows-services',\n",
       " 'winforms',\n",
       " 'wordpress',\n",
       " 'wpf',\n",
       " 'xamarin',\n",
       " 'xaml',\n",
       " 'xcode',\n",
       " 'xcode6',\n",
       " 'xhtml',\n",
       " 'xml',\n",
       " 'xpath',\n",
       " 'xslt',\n",
       " 'zend-framework',\n",
       " 'null']"
      ]
     },
     "execution_count": 745,
     "metadata": {},
     "output_type": "execute_result"
    }
   ],
   "source": [
    "list_high_occ_tags"
   ]
  },
  {
   "cell_type": "code",
   "execution_count": 746,
   "metadata": {},
   "outputs": [
    {
     "data": {
      "text/html": [
       "<div>\n",
       "<style scoped>\n",
       "    .dataframe tbody tr th:only-of-type {\n",
       "        vertical-align: middle;\n",
       "    }\n",
       "\n",
       "    .dataframe tbody tr th {\n",
       "        vertical-align: top;\n",
       "    }\n",
       "\n",
       "    .dataframe thead th {\n",
       "        text-align: right;\n",
       "    }\n",
       "</style>\n",
       "<table border=\"1\" class=\"dataframe\">\n",
       "  <thead>\n",
       "    <tr style=\"text-align: right;\">\n",
       "      <th></th>\n",
       "      <th>old_tags</th>\n",
       "      <th>tags</th>\n",
       "    </tr>\n",
       "  </thead>\n",
       "  <tbody>\n",
       "    <tr>\n",
       "      <th>41851</th>\n",
       "      <td>sql-server sql-server-2008 tsql</td>\n",
       "      <td>sql-server sql-server-2008 tsql</td>\n",
       "    </tr>\n",
       "    <tr>\n",
       "      <th>10164</th>\n",
       "      <td>javascript html5</td>\n",
       "      <td>javascript html5</td>\n",
       "    </tr>\n",
       "    <tr>\n",
       "      <th>9652</th>\n",
       "      <td>c# visual-studio-2015</td>\n",
       "      <td>c# visual-studio-2015</td>\n",
       "    </tr>\n",
       "    <tr>\n",
       "      <th>41072</th>\n",
       "      <td>c# wpf data-binding</td>\n",
       "      <td>c# wpf data-binding</td>\n",
       "    </tr>\n",
       "    <tr>\n",
       "      <th>39405</th>\n",
       "      <td>windows-phone windows-phone-8.1</td>\n",
       "      <td></td>\n",
       "    </tr>\n",
       "    <tr>\n",
       "      <th>42066</th>\n",
       "      <td>php javascript html</td>\n",
       "      <td>php javascript html</td>\n",
       "    </tr>\n",
       "    <tr>\n",
       "      <th>6501</th>\n",
       "      <td>javascript variables variable-assignment</td>\n",
       "      <td>javascript variables</td>\n",
       "    </tr>\n",
       "    <tr>\n",
       "      <th>4327</th>\n",
       "      <td>windows-8 windows-runtime nuget portable-class...</td>\n",
       "      <td>nuget</td>\n",
       "    </tr>\n",
       "    <tr>\n",
       "      <th>25836</th>\n",
       "      <td>sql-server</td>\n",
       "      <td>sql-server</td>\n",
       "    </tr>\n",
       "    <tr>\n",
       "      <th>40241</th>\n",
       "      <td>regex bash awk sed</td>\n",
       "      <td>regex bash awk sed</td>\n",
       "    </tr>\n",
       "    <tr>\n",
       "      <th>...</th>\n",
       "      <td>...</td>\n",
       "      <td>...</td>\n",
       "    </tr>\n",
       "    <tr>\n",
       "      <th>41069</th>\n",
       "      <td>hibernate jpa-2.0 postgresql-8.4</td>\n",
       "      <td>hibernate</td>\n",
       "    </tr>\n",
       "    <tr>\n",
       "      <th>31611</th>\n",
       "      <td>python fibonacci series</td>\n",
       "      <td>python</td>\n",
       "    </tr>\n",
       "    <tr>\n",
       "      <th>6013</th>\n",
       "      <td>visual-studio eclipse</td>\n",
       "      <td>visual-studio eclipse</td>\n",
       "    </tr>\n",
       "    <tr>\n",
       "      <th>10363</th>\n",
       "      <td>amazon-web-services amazon-s3</td>\n",
       "      <td>amazon-web-services amazon-s3</td>\n",
       "    </tr>\n",
       "    <tr>\n",
       "      <th>27697</th>\n",
       "      <td>bash shell</td>\n",
       "      <td>bash shell</td>\n",
       "    </tr>\n",
       "    <tr>\n",
       "      <th>9806</th>\n",
       "      <td>android user-interface android-studio background</td>\n",
       "      <td>android user-interface android-studio</td>\n",
       "    </tr>\n",
       "    <tr>\n",
       "      <th>4951</th>\n",
       "      <td>java string core</td>\n",
       "      <td>java string</td>\n",
       "    </tr>\n",
       "    <tr>\n",
       "      <th>12087</th>\n",
       "      <td>javascript jquery typescript aurelia aurelia-b...</td>\n",
       "      <td>javascript jquery typescript</td>\n",
       "    </tr>\n",
       "    <tr>\n",
       "      <th>15222</th>\n",
       "      <td>.net php messaging producer-consumer servicebus</td>\n",
       "      <td>.net php</td>\n",
       "    </tr>\n",
       "    <tr>\n",
       "      <th>38010</th>\n",
       "      <td>android genymotion picasso okhttp</td>\n",
       "      <td>android</td>\n",
       "    </tr>\n",
       "  </tbody>\n",
       "</table>\n",
       "<p>100 rows × 2 columns</p>\n",
       "</div>"
      ],
      "text/plain": [
       "                                                old_tags  \\\n",
       "41851                    sql-server sql-server-2008 tsql   \n",
       "10164                                   javascript html5   \n",
       "9652                               c# visual-studio-2015   \n",
       "41072                                c# wpf data-binding   \n",
       "39405                    windows-phone windows-phone-8.1   \n",
       "42066                                php javascript html   \n",
       "6501            javascript variables variable-assignment   \n",
       "4327   windows-8 windows-runtime nuget portable-class...   \n",
       "25836                                         sql-server   \n",
       "40241                                 regex bash awk sed   \n",
       "...                                                  ...   \n",
       "41069                   hibernate jpa-2.0 postgresql-8.4   \n",
       "31611                            python fibonacci series   \n",
       "6013                               visual-studio eclipse   \n",
       "10363                      amazon-web-services amazon-s3   \n",
       "27697                                         bash shell   \n",
       "9806    android user-interface android-studio background   \n",
       "4951                                    java string core   \n",
       "12087  javascript jquery typescript aurelia aurelia-b...   \n",
       "15222    .net php messaging producer-consumer servicebus   \n",
       "38010                  android genymotion picasso okhttp   \n",
       "\n",
       "                                        tags  \n",
       "41851        sql-server sql-server-2008 tsql  \n",
       "10164                       javascript html5  \n",
       "9652                   c# visual-studio-2015  \n",
       "41072                    c# wpf data-binding  \n",
       "39405                                         \n",
       "42066                    php javascript html  \n",
       "6501                    javascript variables  \n",
       "4327                                   nuget  \n",
       "25836                             sql-server  \n",
       "40241                     regex bash awk sed  \n",
       "...                                      ...  \n",
       "41069                              hibernate  \n",
       "31611                                 python  \n",
       "6013                   visual-studio eclipse  \n",
       "10363          amazon-web-services amazon-s3  \n",
       "27697                             bash shell  \n",
       "9806   android user-interface android-studio  \n",
       "4951                             java string  \n",
       "12087           javascript jquery typescript  \n",
       "15222                               .net php  \n",
       "38010                                android  \n",
       "\n",
       "[100 rows x 2 columns]"
      ]
     },
     "execution_count": 746,
     "metadata": {},
     "output_type": "execute_result"
    }
   ],
   "source": [
    "df_transformed[['old_tags', 'tags']].sample(100)"
   ]
  },
  {
   "cell_type": "markdown",
   "metadata": {},
   "source": [
    "## Exporting transformed data on feather file"
   ]
  },
  {
   "cell_type": "code",
   "execution_count": 747,
   "metadata": {},
   "outputs": [],
   "source": [
    "df_transformed.to_feather('df_transformed_stackoverflow_posts.feather')"
   ]
  },
  {
   "cell_type": "code",
   "execution_count": null,
   "metadata": {},
   "outputs": [],
   "source": []
  }
 ],
 "metadata": {
  "kernelspec": {
   "display_name": "Python 3",
   "language": "python",
   "name": "python3"
  },
  "language_info": {
   "codemirror_mode": {
    "name": "ipython",
    "version": 3
   },
   "file_extension": ".py",
   "mimetype": "text/x-python",
   "name": "python",
   "nbconvert_exporter": "python",
   "pygments_lexer": "ipython3",
   "version": "3.6.5"
  }
 },
 "nbformat": 4,
 "nbformat_minor": 2
}
