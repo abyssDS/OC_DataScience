{
 "cells": [
  {
   "cell_type": "markdown",
   "metadata": {},
   "source": [
    "# Import, Cleaning and Exploring the data"
   ]
  },
  {
   "cell_type": "code",
   "execution_count": 111,
   "metadata": {},
   "outputs": [],
   "source": [
    "from IPython.core.interactiveshell import InteractiveShell\n",
    "from datetime import datetime\n",
    "\n",
    "#basic externals\n",
    "import pandas as pd\n",
    "import numpy as np\n",
    "from pandas.api.types import is_string_dtype\n",
    "from pandas.api.types import is_numeric_dtype\n",
    "import feather\n",
    "\n",
    "#visual libs\n",
    "import matplotlib.pyplot  as plt\n",
    "import seaborn as sns\n",
    "\n",
    "## testing statsmodel\n",
    "import statsmodels.api as sm\n",
    "import statsmodels.formula.api as smf\n",
    "from patsy import dmatrices\n",
    "\n",
    "#local imports\n",
    "%run xm_functions\n",
    "\n",
    "InteractiveShell.ast_node_interactivity = \"all\"\n",
    "\n",
    "pd.options.display.max_rows = 20\n",
    "pd.options.display.max_columns = 50 \n",
    "pd.set_option(\n",
    "    \"display.float_format\", lambda x: \"%.3f\" % x\n",
    ")  # display numbers as decimals instead of scientific value\n",
    "\n",
    "plt.rcParams[\"font.size\"] = (18)"
   ]
  },
  {
   "cell_type": "markdown",
   "metadata": {},
   "source": [
    "### Quickly import our feather raw dataset"
   ]
  },
  {
   "cell_type": "code",
   "execution_count": 112,
   "metadata": {},
   "outputs": [],
   "source": [
    "fast =True\n",
    "if fast==True:\n",
    "    df = pd.read_feather('online_retail_raw.feather')\n",
    "else:\n",
    "    file_path = 'Online Retail.xlsx'\n",
    "    df = pd.read_excel(file_path)\n",
    "    for col in ['InvoiceNo', 'StockCode', 'Country', 'Description'] : \n",
    "        df[col] = df[col].astype('str')\n",
    "        df.to_feather('online_retail_raw.feather')"
   ]
  },
  {
   "cell_type": "markdown",
   "metadata": {},
   "source": [
    "## Quick describe"
   ]
  },
  {
   "cell_type": "markdown",
   "metadata": {},
   "source": [
    "InvoiceNo: Invoice number. Nominal, a 6-digit integral number uniquely assigned to each transaction. If this code starts with letter 'c', it indicates a cancellation. \n",
    "StockCode: Product (item) code. Nominal, a 5-digit integral number uniquely assigned to each distinct product. \n",
    "Description: Product (item) name. Nominal. \n",
    "Quantity: The quantities of each product (item) per transaction. Numeric.\t\n",
    "InvoiceDate: Invice Date and time. Numeric, the day and time when each transaction was generated. \n",
    "UnitPrice: Unit price. Numeric, Product price per unit in sterling. \n",
    "CustomerID: Customer number. Nominal, a 5-digit integral number uniquely assigned to each customer. \n",
    "Country: Country name. Nominal, the name of the country where each customer resides."
   ]
  },
  {
   "cell_type": "code",
   "execution_count": 113,
   "metadata": {},
   "outputs": [
    {
     "data": {
      "text/html": [
       "<div>\n",
       "<style scoped>\n",
       "    .dataframe tbody tr th:only-of-type {\n",
       "        vertical-align: middle;\n",
       "    }\n",
       "\n",
       "    .dataframe tbody tr th {\n",
       "        vertical-align: top;\n",
       "    }\n",
       "\n",
       "    .dataframe thead th {\n",
       "        text-align: right;\n",
       "    }\n",
       "</style>\n",
       "<table border=\"1\" class=\"dataframe\">\n",
       "  <thead>\n",
       "    <tr style=\"text-align: right;\">\n",
       "      <th></th>\n",
       "      <th>InvoiceNo</th>\n",
       "      <th>StockCode</th>\n",
       "      <th>Description</th>\n",
       "      <th>Quantity</th>\n",
       "      <th>InvoiceDate</th>\n",
       "      <th>UnitPrice</th>\n",
       "      <th>CustomerID</th>\n",
       "      <th>Country</th>\n",
       "    </tr>\n",
       "  </thead>\n",
       "  <tbody>\n",
       "    <tr>\n",
       "      <th>count</th>\n",
       "      <td>541909</td>\n",
       "      <td>541909</td>\n",
       "      <td>541909</td>\n",
       "      <td>541909.000</td>\n",
       "      <td>541909</td>\n",
       "      <td>541909.000</td>\n",
       "      <td>406829.000</td>\n",
       "      <td>541909</td>\n",
       "    </tr>\n",
       "    <tr>\n",
       "      <th>unique</th>\n",
       "      <td>25900</td>\n",
       "      <td>4070</td>\n",
       "      <td>4224</td>\n",
       "      <td>nan</td>\n",
       "      <td>23260</td>\n",
       "      <td>nan</td>\n",
       "      <td>nan</td>\n",
       "      <td>38</td>\n",
       "    </tr>\n",
       "    <tr>\n",
       "      <th>top</th>\n",
       "      <td>573585</td>\n",
       "      <td>85123A</td>\n",
       "      <td>WHITE HANGING HEART T-LIGHT HOLDER</td>\n",
       "      <td>nan</td>\n",
       "      <td>2011-10-31 14:41:00</td>\n",
       "      <td>nan</td>\n",
       "      <td>nan</td>\n",
       "      <td>United Kingdom</td>\n",
       "    </tr>\n",
       "    <tr>\n",
       "      <th>freq</th>\n",
       "      <td>1114</td>\n",
       "      <td>2313</td>\n",
       "      <td>2369</td>\n",
       "      <td>nan</td>\n",
       "      <td>1114</td>\n",
       "      <td>nan</td>\n",
       "      <td>nan</td>\n",
       "      <td>495478</td>\n",
       "    </tr>\n",
       "    <tr>\n",
       "      <th>first</th>\n",
       "      <td>NaN</td>\n",
       "      <td>NaN</td>\n",
       "      <td>NaN</td>\n",
       "      <td>nan</td>\n",
       "      <td>2010-12-01 08:26:00</td>\n",
       "      <td>nan</td>\n",
       "      <td>nan</td>\n",
       "      <td>NaN</td>\n",
       "    </tr>\n",
       "    <tr>\n",
       "      <th>last</th>\n",
       "      <td>NaN</td>\n",
       "      <td>NaN</td>\n",
       "      <td>NaN</td>\n",
       "      <td>nan</td>\n",
       "      <td>2011-12-09 12:50:00</td>\n",
       "      <td>nan</td>\n",
       "      <td>nan</td>\n",
       "      <td>NaN</td>\n",
       "    </tr>\n",
       "    <tr>\n",
       "      <th>mean</th>\n",
       "      <td>NaN</td>\n",
       "      <td>NaN</td>\n",
       "      <td>NaN</td>\n",
       "      <td>9.552</td>\n",
       "      <td>NaN</td>\n",
       "      <td>4.611</td>\n",
       "      <td>15287.691</td>\n",
       "      <td>NaN</td>\n",
       "    </tr>\n",
       "    <tr>\n",
       "      <th>std</th>\n",
       "      <td>NaN</td>\n",
       "      <td>NaN</td>\n",
       "      <td>NaN</td>\n",
       "      <td>218.081</td>\n",
       "      <td>NaN</td>\n",
       "      <td>96.760</td>\n",
       "      <td>1713.600</td>\n",
       "      <td>NaN</td>\n",
       "    </tr>\n",
       "    <tr>\n",
       "      <th>min</th>\n",
       "      <td>NaN</td>\n",
       "      <td>NaN</td>\n",
       "      <td>NaN</td>\n",
       "      <td>-80995.000</td>\n",
       "      <td>NaN</td>\n",
       "      <td>-11062.060</td>\n",
       "      <td>12346.000</td>\n",
       "      <td>NaN</td>\n",
       "    </tr>\n",
       "    <tr>\n",
       "      <th>25%</th>\n",
       "      <td>NaN</td>\n",
       "      <td>NaN</td>\n",
       "      <td>NaN</td>\n",
       "      <td>1.000</td>\n",
       "      <td>NaN</td>\n",
       "      <td>1.250</td>\n",
       "      <td>13953.000</td>\n",
       "      <td>NaN</td>\n",
       "    </tr>\n",
       "    <tr>\n",
       "      <th>50%</th>\n",
       "      <td>NaN</td>\n",
       "      <td>NaN</td>\n",
       "      <td>NaN</td>\n",
       "      <td>3.000</td>\n",
       "      <td>NaN</td>\n",
       "      <td>2.080</td>\n",
       "      <td>15152.000</td>\n",
       "      <td>NaN</td>\n",
       "    </tr>\n",
       "    <tr>\n",
       "      <th>75%</th>\n",
       "      <td>NaN</td>\n",
       "      <td>NaN</td>\n",
       "      <td>NaN</td>\n",
       "      <td>10.000</td>\n",
       "      <td>NaN</td>\n",
       "      <td>4.130</td>\n",
       "      <td>16791.000</td>\n",
       "      <td>NaN</td>\n",
       "    </tr>\n",
       "    <tr>\n",
       "      <th>max</th>\n",
       "      <td>NaN</td>\n",
       "      <td>NaN</td>\n",
       "      <td>NaN</td>\n",
       "      <td>80995.000</td>\n",
       "      <td>NaN</td>\n",
       "      <td>38970.000</td>\n",
       "      <td>18287.000</td>\n",
       "      <td>NaN</td>\n",
       "    </tr>\n",
       "  </tbody>\n",
       "</table>\n",
       "</div>"
      ],
      "text/plain": [
       "       InvoiceNo StockCode                         Description   Quantity  \\\n",
       "count     541909    541909                              541909 541909.000   \n",
       "unique     25900      4070                                4224        nan   \n",
       "top       573585    85123A  WHITE HANGING HEART T-LIGHT HOLDER        nan   \n",
       "freq        1114      2313                                2369        nan   \n",
       "first        NaN       NaN                                 NaN        nan   \n",
       "last         NaN       NaN                                 NaN        nan   \n",
       "mean         NaN       NaN                                 NaN      9.552   \n",
       "std          NaN       NaN                                 NaN    218.081   \n",
       "min          NaN       NaN                                 NaN -80995.000   \n",
       "25%          NaN       NaN                                 NaN      1.000   \n",
       "50%          NaN       NaN                                 NaN      3.000   \n",
       "75%          NaN       NaN                                 NaN     10.000   \n",
       "max          NaN       NaN                                 NaN  80995.000   \n",
       "\n",
       "                InvoiceDate  UnitPrice  CustomerID         Country  \n",
       "count                541909 541909.000  406829.000          541909  \n",
       "unique                23260        nan         nan              38  \n",
       "top     2011-10-31 14:41:00        nan         nan  United Kingdom  \n",
       "freq                   1114        nan         nan          495478  \n",
       "first   2010-12-01 08:26:00        nan         nan             NaN  \n",
       "last    2011-12-09 12:50:00        nan         nan             NaN  \n",
       "mean                    NaN      4.611   15287.691             NaN  \n",
       "std                     NaN     96.760    1713.600             NaN  \n",
       "min                     NaN -11062.060   12346.000             NaN  \n",
       "25%                     NaN      1.250   13953.000             NaN  \n",
       "50%                     NaN      2.080   15152.000             NaN  \n",
       "75%                     NaN      4.130   16791.000             NaN  \n",
       "max                     NaN  38970.000   18287.000             NaN  "
      ]
     },
     "execution_count": 113,
     "metadata": {},
     "output_type": "execute_result"
    },
    {
     "data": {
      "text/html": [
       "<div>\n",
       "<style scoped>\n",
       "    .dataframe tbody tr th:only-of-type {\n",
       "        vertical-align: middle;\n",
       "    }\n",
       "\n",
       "    .dataframe tbody tr th {\n",
       "        vertical-align: top;\n",
       "    }\n",
       "\n",
       "    .dataframe thead th {\n",
       "        text-align: right;\n",
       "    }\n",
       "</style>\n",
       "<table border=\"1\" class=\"dataframe\">\n",
       "  <thead>\n",
       "    <tr style=\"text-align: right;\">\n",
       "      <th></th>\n",
       "      <th>InvoiceNo</th>\n",
       "      <th>StockCode</th>\n",
       "      <th>Description</th>\n",
       "      <th>Quantity</th>\n",
       "      <th>InvoiceDate</th>\n",
       "      <th>UnitPrice</th>\n",
       "      <th>CustomerID</th>\n",
       "      <th>Country</th>\n",
       "    </tr>\n",
       "  </thead>\n",
       "  <tbody>\n",
       "    <tr>\n",
       "      <th>0</th>\n",
       "      <td>536365</td>\n",
       "      <td>85123A</td>\n",
       "      <td>WHITE HANGING HEART T-LIGHT HOLDER</td>\n",
       "      <td>6</td>\n",
       "      <td>2010-12-01 08:26:00</td>\n",
       "      <td>2.550</td>\n",
       "      <td>17850.000</td>\n",
       "      <td>United Kingdom</td>\n",
       "    </tr>\n",
       "    <tr>\n",
       "      <th>1</th>\n",
       "      <td>536365</td>\n",
       "      <td>71053</td>\n",
       "      <td>WHITE METAL LANTERN</td>\n",
       "      <td>6</td>\n",
       "      <td>2010-12-01 08:26:00</td>\n",
       "      <td>3.390</td>\n",
       "      <td>17850.000</td>\n",
       "      <td>United Kingdom</td>\n",
       "    </tr>\n",
       "    <tr>\n",
       "      <th>2</th>\n",
       "      <td>536365</td>\n",
       "      <td>84406B</td>\n",
       "      <td>CREAM CUPID HEARTS COAT HANGER</td>\n",
       "      <td>8</td>\n",
       "      <td>2010-12-01 08:26:00</td>\n",
       "      <td>2.750</td>\n",
       "      <td>17850.000</td>\n",
       "      <td>United Kingdom</td>\n",
       "    </tr>\n",
       "    <tr>\n",
       "      <th>3</th>\n",
       "      <td>536365</td>\n",
       "      <td>84029G</td>\n",
       "      <td>KNITTED UNION FLAG HOT WATER BOTTLE</td>\n",
       "      <td>6</td>\n",
       "      <td>2010-12-01 08:26:00</td>\n",
       "      <td>3.390</td>\n",
       "      <td>17850.000</td>\n",
       "      <td>United Kingdom</td>\n",
       "    </tr>\n",
       "    <tr>\n",
       "      <th>4</th>\n",
       "      <td>536365</td>\n",
       "      <td>84029E</td>\n",
       "      <td>RED WOOLLY HOTTIE WHITE HEART.</td>\n",
       "      <td>6</td>\n",
       "      <td>2010-12-01 08:26:00</td>\n",
       "      <td>3.390</td>\n",
       "      <td>17850.000</td>\n",
       "      <td>United Kingdom</td>\n",
       "    </tr>\n",
       "    <tr>\n",
       "      <th>5</th>\n",
       "      <td>536365</td>\n",
       "      <td>22752</td>\n",
       "      <td>SET 7 BABUSHKA NESTING BOXES</td>\n",
       "      <td>2</td>\n",
       "      <td>2010-12-01 08:26:00</td>\n",
       "      <td>7.650</td>\n",
       "      <td>17850.000</td>\n",
       "      <td>United Kingdom</td>\n",
       "    </tr>\n",
       "    <tr>\n",
       "      <th>6</th>\n",
       "      <td>536365</td>\n",
       "      <td>21730</td>\n",
       "      <td>GLASS STAR FROSTED T-LIGHT HOLDER</td>\n",
       "      <td>6</td>\n",
       "      <td>2010-12-01 08:26:00</td>\n",
       "      <td>4.250</td>\n",
       "      <td>17850.000</td>\n",
       "      <td>United Kingdom</td>\n",
       "    </tr>\n",
       "    <tr>\n",
       "      <th>7</th>\n",
       "      <td>536366</td>\n",
       "      <td>22633</td>\n",
       "      <td>HAND WARMER UNION JACK</td>\n",
       "      <td>6</td>\n",
       "      <td>2010-12-01 08:28:00</td>\n",
       "      <td>1.850</td>\n",
       "      <td>17850.000</td>\n",
       "      <td>United Kingdom</td>\n",
       "    </tr>\n",
       "    <tr>\n",
       "      <th>8</th>\n",
       "      <td>536366</td>\n",
       "      <td>22632</td>\n",
       "      <td>HAND WARMER RED POLKA DOT</td>\n",
       "      <td>6</td>\n",
       "      <td>2010-12-01 08:28:00</td>\n",
       "      <td>1.850</td>\n",
       "      <td>17850.000</td>\n",
       "      <td>United Kingdom</td>\n",
       "    </tr>\n",
       "    <tr>\n",
       "      <th>9</th>\n",
       "      <td>536367</td>\n",
       "      <td>84879</td>\n",
       "      <td>ASSORTED COLOUR BIRD ORNAMENT</td>\n",
       "      <td>32</td>\n",
       "      <td>2010-12-01 08:34:00</td>\n",
       "      <td>1.690</td>\n",
       "      <td>13047.000</td>\n",
       "      <td>United Kingdom</td>\n",
       "    </tr>\n",
       "    <tr>\n",
       "      <th>10</th>\n",
       "      <td>536367</td>\n",
       "      <td>22745</td>\n",
       "      <td>POPPY'S PLAYHOUSE BEDROOM</td>\n",
       "      <td>6</td>\n",
       "      <td>2010-12-01 08:34:00</td>\n",
       "      <td>2.100</td>\n",
       "      <td>13047.000</td>\n",
       "      <td>United Kingdom</td>\n",
       "    </tr>\n",
       "    <tr>\n",
       "      <th>11</th>\n",
       "      <td>536367</td>\n",
       "      <td>22748</td>\n",
       "      <td>POPPY'S PLAYHOUSE KITCHEN</td>\n",
       "      <td>6</td>\n",
       "      <td>2010-12-01 08:34:00</td>\n",
       "      <td>2.100</td>\n",
       "      <td>13047.000</td>\n",
       "      <td>United Kingdom</td>\n",
       "    </tr>\n",
       "  </tbody>\n",
       "</table>\n",
       "</div>"
      ],
      "text/plain": [
       "   InvoiceNo StockCode                          Description  Quantity  \\\n",
       "0     536365    85123A   WHITE HANGING HEART T-LIGHT HOLDER         6   \n",
       "1     536365     71053                  WHITE METAL LANTERN         6   \n",
       "2     536365    84406B       CREAM CUPID HEARTS COAT HANGER         8   \n",
       "3     536365    84029G  KNITTED UNION FLAG HOT WATER BOTTLE         6   \n",
       "4     536365    84029E       RED WOOLLY HOTTIE WHITE HEART.         6   \n",
       "5     536365     22752         SET 7 BABUSHKA NESTING BOXES         2   \n",
       "6     536365     21730    GLASS STAR FROSTED T-LIGHT HOLDER         6   \n",
       "7     536366     22633               HAND WARMER UNION JACK         6   \n",
       "8     536366     22632            HAND WARMER RED POLKA DOT         6   \n",
       "9     536367     84879        ASSORTED COLOUR BIRD ORNAMENT        32   \n",
       "10    536367     22745           POPPY'S PLAYHOUSE BEDROOM          6   \n",
       "11    536367     22748            POPPY'S PLAYHOUSE KITCHEN         6   \n",
       "\n",
       "           InvoiceDate  UnitPrice  CustomerID         Country  \n",
       "0  2010-12-01 08:26:00      2.550   17850.000  United Kingdom  \n",
       "1  2010-12-01 08:26:00      3.390   17850.000  United Kingdom  \n",
       "2  2010-12-01 08:26:00      2.750   17850.000  United Kingdom  \n",
       "3  2010-12-01 08:26:00      3.390   17850.000  United Kingdom  \n",
       "4  2010-12-01 08:26:00      3.390   17850.000  United Kingdom  \n",
       "5  2010-12-01 08:26:00      7.650   17850.000  United Kingdom  \n",
       "6  2010-12-01 08:26:00      4.250   17850.000  United Kingdom  \n",
       "7  2010-12-01 08:28:00      1.850   17850.000  United Kingdom  \n",
       "8  2010-12-01 08:28:00      1.850   17850.000  United Kingdom  \n",
       "9  2010-12-01 08:34:00      1.690   13047.000  United Kingdom  \n",
       "10 2010-12-01 08:34:00      2.100   13047.000  United Kingdom  \n",
       "11 2010-12-01 08:34:00      2.100   13047.000  United Kingdom  "
      ]
     },
     "execution_count": 113,
     "metadata": {},
     "output_type": "execute_result"
    }
   ],
   "source": [
    "df.describe(include='all')\n",
    "df.head(12)"
   ]
  },
  {
   "cell_type": "code",
   "execution_count": 114,
   "metadata": {},
   "outputs": [
    {
     "data": {
      "text/plain": [
       "InvoiceNo      541909\n",
       "StockCode      541909\n",
       "Description    541909\n",
       "Quantity       541909\n",
       "InvoiceDate    541909\n",
       "UnitPrice      541909\n",
       "CustomerID     406829\n",
       "Country        541909\n",
       "dtype: int64"
      ]
     },
     "execution_count": 114,
     "metadata": {},
     "output_type": "execute_result"
    }
   ],
   "source": [
    "df.count()"
   ]
  },
  {
   "cell_type": "markdown",
   "metadata": {},
   "source": [
    "## Drop NA customers"
   ]
  },
  {
   "cell_type": "code",
   "execution_count": 115,
   "metadata": {},
   "outputs": [
    {
     "name": "stdout",
     "output_type": "stream",
     "text": [
      "135080 rows dropped due to missing customer ID\n"
     ]
    }
   ],
   "source": [
    "original_size = df.shape[0]\n",
    "df= df.dropna()\n",
    "print(original_size-df.shape[0], 'rows dropped due to missing customer ID')"
   ]
  },
  {
   "cell_type": "markdown",
   "metadata": {},
   "source": [
    "# Drop Duplicates"
   ]
  },
  {
   "cell_type": "code",
   "execution_count": 116,
   "metadata": {},
   "outputs": [
    {
     "name": "stdout",
     "output_type": "stream",
     "text": [
      "5225 perfect duplicates deleted\n"
     ]
    }
   ],
   "source": [
    "df_no_duplicates = df.drop_duplicates()\n",
    "print((df.shape[0] - df_no_duplicates.shape[0]) ,\"perfect duplicates deleted\" )\n",
    "df = df_no_duplicates"
   ]
  },
  {
   "cell_type": "code",
   "execution_count": 117,
   "metadata": {},
   "outputs": [],
   "source": [
    "#other duplicates?"
   ]
  },
  {
   "cell_type": "markdown",
   "metadata": {},
   "source": [
    "# Fix abnormal values"
   ]
  },
  {
   "cell_type": "code",
   "execution_count": 118,
   "metadata": {},
   "outputs": [
    {
     "name": "stdout",
     "output_type": "stream",
     "text": [
      "8872 items with negative quantity (cancels). Dropping\n",
      "0 canceled order left\n"
     ]
    }
   ],
   "source": [
    "df_negative_quantity = df[df['Quantity'] <0]\n",
    "print(df_negative_quantity.shape[0] ,'items with negative quantity (cancels). Dropping')\n",
    "df = df.drop(df_negative_quantity.index)\n",
    "\n",
    "print(df[df['InvoiceNo'].str.contains('c')==True].shape[0], 'canceled order left')"
   ]
  },
  {
   "cell_type": "code",
   "execution_count": 119,
   "metadata": {},
   "outputs": [
    {
     "name": "stdout",
     "output_type": "stream",
     "text": [
      "40 Unitprice of 0 to drop\n"
     ]
    }
   ],
   "source": [
    "df_drop = df[df['UnitPrice'] <=0]\n",
    "print(df_drop.shape[0] ,'Unitprice of 0 to drop')\n",
    "df = df.drop(df_drop.index)"
   ]
  },
  {
   "cell_type": "markdown",
   "metadata": {},
   "source": [
    "### Drop manual transactions"
   ]
  },
  {
   "cell_type": "code",
   "execution_count": 120,
   "metadata": {},
   "outputs": [
    {
     "name": "stdout",
     "output_type": "stream",
     "text": [
      "279 manual transactions to drop\n"
     ]
    }
   ],
   "source": [
    "df_drop = df[df['StockCode'] =='M']\n",
    "print(df_drop.shape[0] ,'manual transactions to drop')\n",
    "df = df.drop(df_drop.index)"
   ]
  },
  {
   "cell_type": "code",
   "execution_count": 121,
   "metadata": {},
   "outputs": [],
   "source": [
    "df.head(500).to_csv('online_retail_top_500.csv')"
   ]
  },
  {
   "cell_type": "markdown",
   "metadata": {},
   "source": [
    "# Transforming data for exploration"
   ]
  },
  {
   "cell_type": "code",
   "execution_count": 122,
   "metadata": {},
   "outputs": [],
   "source": [
    "def xm_month(x):\n",
    "    if x.year ==2010:\n",
    "        return 0\n",
    "    else:\n",
    "        return x.month\n",
    "    \n",
    "def xm_week(x):\n",
    "    if x.year ==2010:\n",
    "        return -52+x.week\n",
    "    else:\n",
    "        return x.week"
   ]
  },
  {
   "cell_type": "code",
   "execution_count": 123,
   "metadata": {},
   "outputs": [],
   "source": [
    "df['Month'] = df['InvoiceDate'].apply(lambda x :xm_month(x) )\n",
    "df['Week'] = df['InvoiceDate'].apply(lambda x :xm_week(x) )\n",
    "df['Time'] = df['InvoiceDate'].apply(lambda x :x.hour + x.minute*0.016666 )"
   ]
  },
  {
   "cell_type": "code",
   "execution_count": 124,
   "metadata": {},
   "outputs": [],
   "source": [
    "df['TotalPrice'] = df['UnitPrice'] * df['Quantity']"
   ]
  },
  {
   "cell_type": "code",
   "execution_count": 125,
   "metadata": {},
   "outputs": [],
   "source": [
    "col='Description'\n",
    "col_new_name = 'ItemID'\n",
    "y_col = 'UnitPrice'\n",
    "if col_new_name in df.columns:\n",
    "    df.drop(col_new_name, axis = 1, inplace=True)\n",
    "col_ordered =df[[col,y_col]].groupby(col).mean().sort_values(y_col).reset_index().reset_index().set_index(col).rename({'index':col_new_name}, axis=1)\n",
    "df = df.join(col_ordered.drop(y_col , axis =1), on=col)"
   ]
  },
  {
   "cell_type": "code",
   "execution_count": 126,
   "metadata": {},
   "outputs": [],
   "source": [
    "col_new_name = 'StockCode'\n",
    "if col_new_name in df.columns:\n",
    "    df.drop(col_new_name, axis = 1, inplace=True)"
   ]
  },
  {
   "cell_type": "code",
   "execution_count": 127,
   "metadata": {},
   "outputs": [],
   "source": [
    "df.loc[df[df.Country=='EIRE'].index, 'Country'] ='Ireland'"
   ]
  },
  {
   "cell_type": "code",
   "execution_count": 128,
   "metadata": {},
   "outputs": [
    {
     "name": "stdout",
     "output_type": "stream",
     "text": [
      "1283 null/nan values for: Country_GPD\n",
      "Filling null Country_GPD with mean: 44477.59\n"
     ]
    }
   ],
   "source": [
    "df_countries_gpd = pd.read_csv('GPD per capita countries.csv', names= ['Country', 'Country_GPD'])\n",
    "df = pd.merge( df, df_countries_gpd, how='left',left_on ='Country' , right_on='Country')\n",
    "feature_name = 'Country_GPD' \n",
    "print(df[feature_name].isna().sum(), \"null/nan values for:\", feature_name)\n",
    "print(\"Filling null\", feature_name, \"with mean:\", round(df[feature_name].mean(), 2))\n",
    "df[feature_name] = df[feature_name].fillna(round(df[feature_name].mean(), 2))\n"
   ]
  },
  {
   "cell_type": "markdown",
   "metadata": {},
   "source": [
    "# Exploring the data"
   ]
  },
  {
   "cell_type": "code",
   "execution_count": 131,
   "metadata": {},
   "outputs": [],
   "source": [
    "def isCountry(x, country):\n",
    "    if x==country:\n",
    "        return True\n",
    "    else:\n",
    "        return False"
   ]
  },
  {
   "cell_type": "code",
   "execution_count": 132,
   "metadata": {},
   "outputs": [],
   "source": [
    "df['CountryUK']= df['Country'].apply(lambda x: isCountry(x, 'United Kingdom') )"
   ]
  },
  {
   "cell_type": "code",
   "execution_count": 133,
   "metadata": {},
   "outputs": [
    {
     "data": {
      "text/html": [
       "<div>\n",
       "<style scoped>\n",
       "    .dataframe tbody tr th:only-of-type {\n",
       "        vertical-align: middle;\n",
       "    }\n",
       "\n",
       "    .dataframe tbody tr th {\n",
       "        vertical-align: top;\n",
       "    }\n",
       "\n",
       "    .dataframe thead th {\n",
       "        text-align: right;\n",
       "    }\n",
       "</style>\n",
       "<table border=\"1\" class=\"dataframe\">\n",
       "  <thead>\n",
       "    <tr style=\"text-align: right;\">\n",
       "      <th></th>\n",
       "      <th>InvoiceNo</th>\n",
       "      <th>Description</th>\n",
       "      <th>Quantity</th>\n",
       "      <th>InvoiceDate</th>\n",
       "      <th>UnitPrice</th>\n",
       "      <th>CustomerID</th>\n",
       "      <th>Country</th>\n",
       "      <th>Month</th>\n",
       "      <th>Week</th>\n",
       "      <th>Time</th>\n",
       "      <th>TotalPrice</th>\n",
       "      <th>ItemID</th>\n",
       "      <th>Country_GPD</th>\n",
       "      <th>CountryUK</th>\n",
       "    </tr>\n",
       "  </thead>\n",
       "  <tbody>\n",
       "    <tr>\n",
       "      <th>count</th>\n",
       "      <td>392413</td>\n",
       "      <td>392413</td>\n",
       "      <td>392413.000</td>\n",
       "      <td>392413</td>\n",
       "      <td>392413.000</td>\n",
       "      <td>392413.000</td>\n",
       "      <td>392413</td>\n",
       "      <td>392413.000</td>\n",
       "      <td>392413.000</td>\n",
       "      <td>392413.000</td>\n",
       "      <td>392413.000</td>\n",
       "      <td>392413.000</td>\n",
       "      <td>392413.000</td>\n",
       "      <td>392413</td>\n",
       "    </tr>\n",
       "    <tr>\n",
       "      <th>unique</th>\n",
       "      <td>18468</td>\n",
       "      <td>3876</td>\n",
       "      <td>nan</td>\n",
       "      <td>17228</td>\n",
       "      <td>nan</td>\n",
       "      <td>nan</td>\n",
       "      <td>37</td>\n",
       "      <td>nan</td>\n",
       "      <td>nan</td>\n",
       "      <td>nan</td>\n",
       "      <td>nan</td>\n",
       "      <td>nan</td>\n",
       "      <td>nan</td>\n",
       "      <td>2</td>\n",
       "    </tr>\n",
       "    <tr>\n",
       "      <th>top</th>\n",
       "      <td>576339</td>\n",
       "      <td>WHITE HANGING HEART T-LIGHT HOLDER</td>\n",
       "      <td>nan</td>\n",
       "      <td>2011-11-14 15:27:00</td>\n",
       "      <td>nan</td>\n",
       "      <td>nan</td>\n",
       "      <td>United Kingdom</td>\n",
       "      <td>nan</td>\n",
       "      <td>nan</td>\n",
       "      <td>nan</td>\n",
       "      <td>nan</td>\n",
       "      <td>nan</td>\n",
       "      <td>nan</td>\n",
       "      <td>True</td>\n",
       "    </tr>\n",
       "    <tr>\n",
       "      <th>freq</th>\n",
       "      <td>542</td>\n",
       "      <td>2016</td>\n",
       "      <td>nan</td>\n",
       "      <td>542</td>\n",
       "      <td>nan</td>\n",
       "      <td>nan</td>\n",
       "      <td>348960</td>\n",
       "      <td>nan</td>\n",
       "      <td>nan</td>\n",
       "      <td>nan</td>\n",
       "      <td>nan</td>\n",
       "      <td>nan</td>\n",
       "      <td>nan</td>\n",
       "      <td>348960</td>\n",
       "    </tr>\n",
       "    <tr>\n",
       "      <th>first</th>\n",
       "      <td>NaN</td>\n",
       "      <td>NaN</td>\n",
       "      <td>nan</td>\n",
       "      <td>2010-12-01 08:26:00</td>\n",
       "      <td>nan</td>\n",
       "      <td>nan</td>\n",
       "      <td>NaN</td>\n",
       "      <td>nan</td>\n",
       "      <td>nan</td>\n",
       "      <td>nan</td>\n",
       "      <td>nan</td>\n",
       "      <td>nan</td>\n",
       "      <td>nan</td>\n",
       "      <td>NaN</td>\n",
       "    </tr>\n",
       "    <tr>\n",
       "      <th>last</th>\n",
       "      <td>NaN</td>\n",
       "      <td>NaN</td>\n",
       "      <td>nan</td>\n",
       "      <td>2011-12-09 12:50:00</td>\n",
       "      <td>nan</td>\n",
       "      <td>nan</td>\n",
       "      <td>NaN</td>\n",
       "      <td>nan</td>\n",
       "      <td>nan</td>\n",
       "      <td>nan</td>\n",
       "      <td>nan</td>\n",
       "      <td>nan</td>\n",
       "      <td>nan</td>\n",
       "      <td>NaN</td>\n",
       "    </tr>\n",
       "    <tr>\n",
       "      <th>mean</th>\n",
       "      <td>NaN</td>\n",
       "      <td>NaN</td>\n",
       "      <td>13.111</td>\n",
       "      <td>NaN</td>\n",
       "      <td>3.001</td>\n",
       "      <td>15287.749</td>\n",
       "      <td>NaN</td>\n",
       "      <td>6.818</td>\n",
       "      <td>27.522</td>\n",
       "      <td>13.228</td>\n",
       "      <td>22.511</td>\n",
       "      <td>1921.992</td>\n",
       "      <td>44477.591</td>\n",
       "      <td>NaN</td>\n",
       "    </tr>\n",
       "    <tr>\n",
       "      <th>std</th>\n",
       "      <td>NaN</td>\n",
       "      <td>NaN</td>\n",
       "      <td>180.518</td>\n",
       "      <td>NaN</td>\n",
       "      <td>15.046</td>\n",
       "      <td>1713.420</td>\n",
       "      <td>NaN</td>\n",
       "      <td>3.682</td>\n",
       "      <td>16.095</td>\n",
       "      <td>2.260</td>\n",
       "      <td>310.780</td>\n",
       "      <td>1042.693</td>\n",
       "      <td>4784.577</td>\n",
       "      <td>NaN</td>\n",
       "    </tr>\n",
       "    <tr>\n",
       "      <th>min</th>\n",
       "      <td>NaN</td>\n",
       "      <td>NaN</td>\n",
       "      <td>1.000</td>\n",
       "      <td>NaN</td>\n",
       "      <td>0.001</td>\n",
       "      <td>12346.000</td>\n",
       "      <td>NaN</td>\n",
       "      <td>0.000</td>\n",
       "      <td>-4.000</td>\n",
       "      <td>6.333</td>\n",
       "      <td>0.001</td>\n",
       "      <td>0.000</td>\n",
       "      <td>15500.000</td>\n",
       "      <td>NaN</td>\n",
       "    </tr>\n",
       "    <tr>\n",
       "      <th>25%</th>\n",
       "      <td>NaN</td>\n",
       "      <td>NaN</td>\n",
       "      <td>2.000</td>\n",
       "      <td>NaN</td>\n",
       "      <td>1.250</td>\n",
       "      <td>13955.000</td>\n",
       "      <td>NaN</td>\n",
       "      <td>4.000</td>\n",
       "      <td>14.000</td>\n",
       "      <td>11.683</td>\n",
       "      <td>4.950</td>\n",
       "      <td>1101.000</td>\n",
       "      <td>43620.000</td>\n",
       "      <td>NaN</td>\n",
       "    </tr>\n",
       "    <tr>\n",
       "      <th>50%</th>\n",
       "      <td>NaN</td>\n",
       "      <td>NaN</td>\n",
       "      <td>6.000</td>\n",
       "      <td>NaN</td>\n",
       "      <td>1.950</td>\n",
       "      <td>15150.000</td>\n",
       "      <td>NaN</td>\n",
       "      <td>7.000</td>\n",
       "      <td>30.000</td>\n",
       "      <td>13.150</td>\n",
       "      <td>12.450</td>\n",
       "      <td>1886.000</td>\n",
       "      <td>43620.000</td>\n",
       "      <td>NaN</td>\n",
       "    </tr>\n",
       "    <tr>\n",
       "      <th>75%</th>\n",
       "      <td>NaN</td>\n",
       "      <td>NaN</td>\n",
       "      <td>12.000</td>\n",
       "      <td>NaN</td>\n",
       "      <td>3.750</td>\n",
       "      <td>16791.000</td>\n",
       "      <td>NaN</td>\n",
       "      <td>10.000</td>\n",
       "      <td>42.000</td>\n",
       "      <td>14.833</td>\n",
       "      <td>19.800</td>\n",
       "      <td>2786.000</td>\n",
       "      <td>43620.000</td>\n",
       "      <td>NaN</td>\n",
       "    </tr>\n",
       "    <tr>\n",
       "      <th>max</th>\n",
       "      <td>NaN</td>\n",
       "      <td>NaN</td>\n",
       "      <td>80995.000</td>\n",
       "      <td>NaN</td>\n",
       "      <td>8142.750</td>\n",
       "      <td>18287.000</td>\n",
       "      <td>NaN</td>\n",
       "      <td>12.000</td>\n",
       "      <td>49.000</td>\n",
       "      <td>20.300</td>\n",
       "      <td>168469.600</td>\n",
       "      <td>3875.000</td>\n",
       "      <td>90531.000</td>\n",
       "      <td>NaN</td>\n",
       "    </tr>\n",
       "  </tbody>\n",
       "</table>\n",
       "</div>"
      ],
      "text/plain": [
       "       InvoiceNo                         Description   Quantity  \\\n",
       "count     392413                              392413 392413.000   \n",
       "unique     18468                                3876        nan   \n",
       "top       576339  WHITE HANGING HEART T-LIGHT HOLDER        nan   \n",
       "freq         542                                2016        nan   \n",
       "first        NaN                                 NaN        nan   \n",
       "last         NaN                                 NaN        nan   \n",
       "mean         NaN                                 NaN     13.111   \n",
       "std          NaN                                 NaN    180.518   \n",
       "min          NaN                                 NaN      1.000   \n",
       "25%          NaN                                 NaN      2.000   \n",
       "50%          NaN                                 NaN      6.000   \n",
       "75%          NaN                                 NaN     12.000   \n",
       "max          NaN                                 NaN  80995.000   \n",
       "\n",
       "                InvoiceDate  UnitPrice  CustomerID         Country      Month  \\\n",
       "count                392413 392413.000  392413.000          392413 392413.000   \n",
       "unique                17228        nan         nan              37        nan   \n",
       "top     2011-11-14 15:27:00        nan         nan  United Kingdom        nan   \n",
       "freq                    542        nan         nan          348960        nan   \n",
       "first   2010-12-01 08:26:00        nan         nan             NaN        nan   \n",
       "last    2011-12-09 12:50:00        nan         nan             NaN        nan   \n",
       "mean                    NaN      3.001   15287.749             NaN      6.818   \n",
       "std                     NaN     15.046    1713.420             NaN      3.682   \n",
       "min                     NaN      0.001   12346.000             NaN      0.000   \n",
       "25%                     NaN      1.250   13955.000             NaN      4.000   \n",
       "50%                     NaN      1.950   15150.000             NaN      7.000   \n",
       "75%                     NaN      3.750   16791.000             NaN     10.000   \n",
       "max                     NaN   8142.750   18287.000             NaN     12.000   \n",
       "\n",
       "             Week       Time  TotalPrice     ItemID  Country_GPD CountryUK  \n",
       "count  392413.000 392413.000  392413.000 392413.000   392413.000    392413  \n",
       "unique        nan        nan         nan        nan          nan         2  \n",
       "top           nan        nan         nan        nan          nan      True  \n",
       "freq          nan        nan         nan        nan          nan    348960  \n",
       "first         nan        nan         nan        nan          nan       NaN  \n",
       "last          nan        nan         nan        nan          nan       NaN  \n",
       "mean       27.522     13.228      22.511   1921.992    44477.591       NaN  \n",
       "std        16.095      2.260     310.780   1042.693     4784.577       NaN  \n",
       "min        -4.000      6.333       0.001      0.000    15500.000       NaN  \n",
       "25%        14.000     11.683       4.950   1101.000    43620.000       NaN  \n",
       "50%        30.000     13.150      12.450   1886.000    43620.000       NaN  \n",
       "75%        42.000     14.833      19.800   2786.000    43620.000       NaN  \n",
       "max        49.000     20.300  168469.600   3875.000    90531.000       NaN  "
      ]
     },
     "execution_count": 133,
     "metadata": {},
     "output_type": "execute_result"
    }
   ],
   "source": [
    "df.describe(include = 'all')"
   ]
  },
  {
   "cell_type": "code",
   "execution_count": 134,
   "metadata": {},
   "outputs": [
    {
     "data": {
      "image/png": "[encoded data removed]",
      "text/plain": [
       "<Figure size 1656x360 with 2 Axes>"
      ]
     },
     "metadata": {},
     "output_type": "display_data"
    }
   ],
   "source": [
    "plt.rcParams[\"figure.figsize\"] = (23,5)\n",
    "f, axes = plt.subplots(1, 2)\n",
    "\n",
    "df_plot = df.groupby(['Month', 'CountryUK'] ).InvoiceNo.nunique().reset_index()\n",
    "ax = sns.barplot(x=\"Month\", y=\"InvoiceNo\", hue=\"CountryUK\", data=df_plot, ax=axes[0])\n",
    "legend(ax, 'Nombre de commandes par mois', 'Mois', 'Nb commandes')\n",
    "\n",
    "#df_plot = df.groupby(['Month', 'CountryUK'] ).Quantity.sum().reset_index()\n",
    "#ax = sns.barplot(x=\"Month\", y=\"Quantity\", hue=\"CountryUK\", data=df_plot, ax=axes[1])\n",
    "#silent = ax.set_title('Number of articles sold per month')\n",
    "#\n",
    "df_plot = df.groupby(['Month', 'CountryUK'] ).TotalPrice.sum().reset_index()\n",
    "ax = sns.barplot(x=\"Month\", y=\"TotalPrice\", hue=\"CountryUK\", data=df_plot, ax=axes[1])\n",
    "legend(ax, 'Chiffre d\\'affaire par mois', 'Mois', 'CA')"
   ]
  },
  {
   "cell_type": "code",
   "execution_count": 135,
   "metadata": {},
   "outputs": [
    {
     "data": {
      "image/png": "[encoded data removed]",
      "text/plain": [
       "<Figure size 1656x360 with 1 Axes>"
      ]
     },
     "metadata": {},
     "output_type": "display_data"
    }
   ],
   "source": [
    "plt.rcParams[\"figure.figsize\"] = (23,5)\n",
    "f, axes = plt.subplots(1, 1)\n",
    "\n",
    "df_plot = df.groupby(['Week', 'CountryUK'] ).InvoiceNo.nunique().reset_index()\n",
    "ax = sns.barplot(x=\"Week\", y=\"InvoiceNo\", hue=\"CountryUK\", data=df_plot, ax=axes)\n",
    "silent = ax.set_title('Number of Invoices per Week')\n",
    "legend(plt, 'Nombre de commandes sur l\\'année', 'Semaine', 'Nombre de commandes')"
   ]
  },
  {
   "cell_type": "code",
   "execution_count": 136,
   "metadata": {},
   "outputs": [],
   "source": [
    "col='CustomerID'\n",
    "col_new_name = 'Client'\n",
    "y_col = 'TotalPrice'\n",
    "if col_new_name in df.columns:\n",
    "    df.drop(col_new_name, axis = 1, inplace=True)\n",
    "col_ordered =df[[col,y_col]].groupby(col).sum().sort_values(y_col).reset_index().reset_index().set_index(col).rename({'index':col_new_name}, axis=1)\n",
    "df = df.join(col_ordered.drop(y_col , axis =1), on=col)"
   ]
  },
  {
   "cell_type": "code",
   "execution_count": 137,
   "metadata": {},
   "outputs": [
    {
     "data": {
      "image/png": "[encoded data removed]",
      "text/plain": [
       "<Figure size 1656x360 with 1 Axes>"
      ]
     },
     "metadata": {},
     "output_type": "display_data"
    },
    {
     "data": {
      "image/png": "[encoded data removed]",
      "text/plain": [
       "<Figure size 1656x360 with 1 Axes>"
      ]
     },
     "metadata": {},
     "output_type": "display_data"
    },
    {
     "data": {
      "text/plain": [
       "<matplotlib.axes._subplots.AxesSubplot at 0x2732f5c0128>"
      ]
     },
     "execution_count": 137,
     "metadata": {},
     "output_type": "execute_result"
    }
   ],
   "source": [
    "plot_rep_stats(df, 'Client', 'TotalPrice',  show_distrib=True)"
   ]
  },
  {
   "cell_type": "code",
   "execution_count": 138,
   "metadata": {},
   "outputs": [
    {
     "data": {
      "image/png": "[encoded data removed]",
      "text/plain": [
       "<Figure size 1656x360 with 1 Axes>"
      ]
     },
     "metadata": {},
     "output_type": "display_data"
    },
    {
     "data": {
      "image/png": "[encoded data removed]",
      "text/plain": [
       "<Figure size 1656x360 with 1 Axes>"
      ]
     },
     "metadata": {},
     "output_type": "display_data"
    },
    {
     "data": {
      "text/plain": [
       "<matplotlib.axes._subplots.AxesSubplot at 0x2734d2e8a90>"
      ]
     },
     "execution_count": 138,
     "metadata": {},
     "output_type": "execute_result"
    }
   ],
   "source": [
    "plot_rep_stats(df, 'ItemID', 'UnitPrice',  show_distrib=True)"
   ]
  },
  {
   "cell_type": "markdown",
   "metadata": {},
   "source": [
    "# Export"
   ]
  },
  {
   "cell_type": "code",
   "execution_count": 139,
   "metadata": {},
   "outputs": [],
   "source": [
    "df.reset_index().to_feather('online_retail_clean.feather')"
   ]
  },
  {
   "cell_type": "code",
   "execution_count": null,
   "metadata": {},
   "outputs": [],
   "source": []
  }
 ],
 "metadata": {
  "kernelspec": {
   "display_name": "Python 3",
   "language": "python",
   "name": "python3"
  },
  "language_info": {
   "codemirror_mode": {
    "name": "ipython",
    "version": 3
   },
   "file_extension": ".py",
   "mimetype": "text/x-python",
   "name": "python",
   "nbconvert_exporter": "python",
   "pygments_lexer": "ipython3",
   "version": "3.6.5"
  }
 },
 "nbformat": 4,
 "nbformat_minor": 2
}
